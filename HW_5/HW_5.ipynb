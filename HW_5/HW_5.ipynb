{
  "nbformat": 4,
  "nbformat_minor": 0,
  "metadata": {
    "colab": {
      "name": "HW_5.ipynb",
      "provenance": [],
      "collapsed_sections": [],
      "authorship_tag": "ABX9TyN/aP2i3rvjMM3Dl9YUCSLf",
      "include_colab_link": true
    },
    "kernelspec": {
      "name": "python3",
      "display_name": "Python 3"
    }
  },
  "cells": [
    {
      "cell_type": "markdown",
      "metadata": {
        "id": "view-in-github",
        "colab_type": "text"
      },
      "source": [
        "<a href=\"https://colab.research.google.com/github/shaunhyp57/Artificial-Intelligence-Machine-Learning/blob/master/HW_5/HW_5.ipynb\" target=\"_parent\"><img src=\"https://colab.research.google.com/assets/colab-badge.svg\" alt=\"Open In Colab\"/></a>"
      ]
    },
    {
      "cell_type": "markdown",
      "metadata": {
        "id": "sIIc3IewvYOj",
        "colab_type": "text"
      },
      "source": [
        "## Artificial Intelligence vs Machine Learning vs Deep Learning"
      ]
    },
    {
      "cell_type": "markdown",
      "metadata": {
        "id": "iukL2T9M4RAV",
        "colab_type": "text"
      },
      "source": [
        "**Artificial Intelligence** is the ability of computer program to function like a human brain. \n",
        "\n",
        "Whenever a machine completes tasks based on a set of stipulated rules that solve problems (algorithms), such an “intelligent” behavior is what is called artificial intelligence."
      ]
    },
    {
      "cell_type": "markdown",
      "metadata": {
        "id": "D69Mr6Q6v06o",
        "colab_type": "text"
      },
      "source": [
        "**Machine Learning** is the field of study that gives computers ability to learn without being explicitly programmed.\n",
        "\n",
        "Machine learning programs adjust themselves to a set of data they are exposed to."
      ]
    },
    {
      "cell_type": "markdown",
      "metadata": {
        "id": "Sm5HqhZbAd_Y",
        "colab_type": "text"
      },
      "source": [
        "**Deep Learning** is a subset of machine learning where algorithms are created and function similar to those in machine learning, but there are numerous layers of these algorithms- each providing a different interpretation to the data it feeds on. \n",
        "\n",
        "Such a network of algorithms are called artificial neural networks, being named so as their functioning is an inspiration, or you may say; an attempt at imitating the function of the human neural networks present in the brain."
      ]
    },
    {
      "cell_type": "markdown",
      "metadata": {
        "id": "LXq0zt0aLtZg",
        "colab_type": "text"
      },
      "source": [
        "![image1](https://github.com/shaunhyp57/Artificial-Intelligence-Machine-Learning/blob/master/HW_5/img/AIvsMLvsDL.png?raw=true)"
      ]
    },
    {
      "cell_type": "markdown",
      "metadata": {
        "id": "uBS_lnzrBq4c",
        "colab_type": "text"
      },
      "source": [
        "Machine learning can be broken down into 3 types: Supervised, Unsupervised, and Reinforcement Learning."
      ]
    },
    {
      "cell_type": "markdown",
      "metadata": {
        "id": "6_Crib-SCJHF",
        "colab_type": "text"
      },
      "source": [
        "**Supervised Learning** is a type of Machine Learning where the model is provided with labeled data. In simple terms, you are given data with known answers and you use the machine learning model to be able to predict future answers based on the previously provided data.\n",
        "\n"
      ]
    },
    {
      "cell_type": "markdown",
      "metadata": {
        "id": "DFd38HdSGDr1",
        "colab_type": "text"
      },
      "source": [
        "Supervised learning can be broken down into two types: Regression and Classification\n",
        "\n",
        "Regression is when the output has a continuous value. For example, housing prices, wind speeds are examples of continuous values within a particular range. The goal is to predict a value as close as possible to the actual output value."
      ]
    },
    {
      "cell_type": "markdown",
      "metadata": {
        "id": "M7A-a0dpUI9n",
        "colab_type": "text"
      },
      "source": [
        "![regression](https://github.com/shaunhyp57/Artificial-Intelligence-Machine-Learning/blob/master/HW_5/img/regression.png?raw=true)"
      ]
    },
    {
      "cell_type": "markdown",
      "metadata": {
        "id": "_wp7jRq9Eqbg",
        "colab_type": "text"
      },
      "source": [
        "##Basic Concepts"
      ]
    },
    {
      "cell_type": "markdown",
      "metadata": {
        "id": "WTqdP5fqJk0k",
        "colab_type": "text"
      },
      "source": [
        "Linear Regression is a machine learning algorithm based on supervised learning. It performs a regression task, which targets prediction values based on independent variables.\n"
      ]
    },
    {
      "cell_type": "markdown",
      "metadata": {
        "id": "J-v6MauFMZZk",
        "colab_type": "text"
      },
      "source": [
        "The equation for Linear Regression:\n",
        "\n",
        "$$\n",
        "\\Large\n",
        "\\begin{equation}\n",
        "\\hat{y} = b + w_1x_1\n",
        "\\end{equation}$$\n",
        "\n",
        "\n",
        "where:\n",
        "\n",
        "$y$ is the predicted desired output label\n",
        "\n",
        "$b$ is the bias (the y-intercept, sometimes referred to as $w_0$)\n",
        "\n",
        "$w_1$ is the weight of feature 1. Weight is the same concept as \"slope\" in traditional line equation\n",
        "\n",
        "$x_1$ is a feature (known input)"
      ]
    },
    {
      "cell_type": "markdown",
      "metadata": {
        "id": "V9kh3HVAZzN7",
        "colab_type": "text"
      },
      "source": [
        "A more complex model involves multiple features $x_1, x_2, ..., x_n$, each having a separate weight $w_1, w_2,...,w_n$.\n",
        "\n",
        "$$\\hat{y}=b+w_1x_1+w_2x_2+...+w_nx_n = b + \\sum_{j=1}^{n} w_jx_j$$\n",
        "\n",
        "a more simplified version is \n",
        "\n",
        "$$\\hat{y}=\\sum_{j=0}^{n} w_jx_j$$\n",
        "\n",
        "where:\n",
        "\n",
        "$w_0$ is the bias (y-intercept)\n",
        "\n",
        "$x_0$ is 1"
      ]
    }
  ]
}