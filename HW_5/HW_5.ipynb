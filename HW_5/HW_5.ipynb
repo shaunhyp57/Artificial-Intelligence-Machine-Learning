{
  "nbformat": 4,
  "nbformat_minor": 0,
  "metadata": {
    "colab": {
      "name": "HW_5.ipynb",
      "provenance": [],
      "collapsed_sections": [],
      "authorship_tag": "ABX9TyMTwgO/Wkk5fkkcy7i+wvrx",
      "include_colab_link": true
    },
    "kernelspec": {
      "name": "python3",
      "display_name": "Python 3"
    }
  },
  "cells": [
    {
      "cell_type": "markdown",
      "metadata": {
        "id": "view-in-github",
        "colab_type": "text"
      },
      "source": [
        "<a href=\"https://colab.research.google.com/github/shaunhyp57/Artificial-Intelligence-Machine-Learning/blob/master/HW_5/HW_5.ipynb\" target=\"_parent\"><img src=\"https://colab.research.google.com/assets/colab-badge.svg\" alt=\"Open In Colab\"/></a>"
      ]
    },
    {
      "cell_type": "markdown",
      "metadata": {
        "id": "sIIc3IewvYOj",
        "colab_type": "text"
      },
      "source": [
        "## Artificial Intelligence vs Machine Learning vs Deep Learning"
      ]
    },
    {
      "cell_type": "markdown",
      "metadata": {
        "id": "iukL2T9M4RAV",
        "colab_type": "text"
      },
      "source": [
        "**Artificial Intelligence** is the ability of computer program to function like a human brain. \n",
        "\n",
        "Whenever a machine completes tasks based on a set of stipulated rules that solve problems (algorithms), such an “intelligent” behavior is what is called artificial intelligence."
      ]
    },
    {
      "cell_type": "markdown",
      "metadata": {
        "id": "D69Mr6Q6v06o",
        "colab_type": "text"
      },
      "source": [
        "**Machine Learning** is the field of study that gives computers ability to learn without being explicitly programmed.\n",
        "\n",
        "Machine learning programs adjust themselves to a set of data they are exposed to."
      ]
    },
    {
      "cell_type": "markdown",
      "metadata": {
        "id": "Sm5HqhZbAd_Y",
        "colab_type": "text"
      },
      "source": [
        "**Deep Learning** is a subset of machine learning where algorithms are created and function similar to those in machine learning, but there are numerous layers of these algorithms- each providing a different interpretation to the data it feeds on. \n",
        "\n",
        "Such a network of algorithms are called artificial neural networks, being named so as their functioning is an inspiration, or you may say; an attempt at imitating the function of the human neural networks present in the brain."
      ]
    },
    {
      "cell_type": "markdown",
      "metadata": {
        "id": "LXq0zt0aLtZg",
        "colab_type": "text"
      },
      "source": [
        "![image1](https://github.com/shaunhyp57/Artificial-Intelligence-Machine-Learning/blob/master/HW_5/img/AIvsMLvsDL.png?raw=true)"
      ]
    },
    {
      "cell_type": "markdown",
      "metadata": {
        "id": "uBS_lnzrBq4c",
        "colab_type": "text"
      },
      "source": [
        "Machine learning can be broken down into 3 types: Supervised, Unsupervised, and Reinforcement Learning."
      ]
    },
    {
      "cell_type": "markdown",
      "metadata": {
        "id": "6_Crib-SCJHF",
        "colab_type": "text"
      },
      "source": [
        "**Supervised Learning** is a type of Machine Learning where the model is provided with labeled data. In simple terms, you are given data with known answers and you use the machine learning model to be able to predict future answers based on the previously provided data.\n",
        "\n"
      ]
    },
    {
      "cell_type": "markdown",
      "metadata": {
        "id": "DFd38HdSGDr1",
        "colab_type": "text"
      },
      "source": [
        "Supervised learning can be broken down into two types: Regression and Classification\n",
        "\n",
        "Regression is when the output has a continuous value. For example, housing prices, wind speeds are examples of continuous values within a particular range. The goal is to predict a value as close as possible to the actual output value."
      ]
    },
    {
      "cell_type": "markdown",
      "metadata": {
        "id": "M7A-a0dpUI9n",
        "colab_type": "text"
      },
      "source": [
        "![regression](https://github.com/shaunhyp57/Artificial-Intelligence-Machine-Learning/blob/master/HW_5/img/regression.png?raw=true)"
      ]
    },
    {
      "cell_type": "markdown",
      "metadata": {
        "id": "_wp7jRq9Eqbg",
        "colab_type": "text"
      },
      "source": [
        "##Basic Concepts"
      ]
    },
    {
      "cell_type": "markdown",
      "metadata": {
        "id": "WTqdP5fqJk0k",
        "colab_type": "text"
      },
      "source": [
        "**Linear Regression** is a machine learning algorithm based on supervised learning. It performs a regression task, which targets prediction values based on independent variables.\n"
      ]
    },
    {
      "cell_type": "markdown",
      "metadata": {
        "id": "J-v6MauFMZZk",
        "colab_type": "text"
      },
      "source": [
        "The equation for Linear Regression:\n",
        "\n",
        "$$\n",
        "\\Large\n",
        "\\begin{equation*}\n",
        "\\hat{y} = b + w_1x_1\n",
        "\\end{equation*}$$\n",
        "\n",
        "\n",
        "where:\n",
        "\n",
        "$y$ is the predicted desired output label\n",
        "\n",
        "$b$ is the bias (the y-intercept, sometimes referred to as $w_0$)\n",
        "\n",
        "$w_1$ is the weight of feature 1. Weight is the same concept as \"slope\" in traditional line equation\n",
        "\n",
        "$x_1$ is a feature (known input)"
      ]
    },
    {
      "cell_type": "markdown",
      "metadata": {
        "id": "V9kh3HVAZzN7",
        "colab_type": "text"
      },
      "source": [
        "A more complex model involves multiple features $x_1, x_2, ..., x_n$, each having a separate weight $w_1, w_2,...,w_n$.\n",
        "\n",
        "$$\n",
        "\\Large\n",
        "\\begin{equation*}\n",
        "\\hat{y}=b+w_1x_1+w_2x_2+...+w_nx_n = b + \\sum_{j=1}^{n} w_jx_j\n",
        "\\end{equation*}$$\n",
        "\n",
        "a more simplified version is \n",
        "\n",
        "$$\n",
        "\\Large\n",
        "\\begin{equation*}\n",
        "\\hat{y}=\\sum_{j=0}^{n} w_jx_j\n",
        "\\end{equation*}$$\n",
        "\n",
        "where:\n",
        "\n",
        "$w_0$ is the bias (y-intercept)\n",
        "\n",
        "$x_0$ is 1"
      ]
    },
    {
      "cell_type": "markdown",
      "metadata": {
        "id": "eg4NYSgTiQdp",
        "colab_type": "text"
      },
      "source": [
        "Let's create a sample logistic regression model on random data."
      ]
    },
    {
      "cell_type": "code",
      "metadata": {
        "id": "6wLKNi91ielv",
        "colab_type": "code",
        "colab": {}
      },
      "source": [
        "import numpy as np\n",
        "import pandas as pd\n",
        "import matplotlib as mpl\n",
        "from mpl_toolkits import mplot3d\n",
        "\n",
        "from random import seed\n",
        "import matplotlib.pyplot as plt\n",
        "from matplotlib.colors import ListedColormap\n",
        "\n",
        "%matplotlib inline"
      ],
      "execution_count": 0,
      "outputs": []
    },
    {
      "cell_type": "markdown",
      "metadata": {
        "id": "-VjNMEMtjEUD",
        "colab_type": "text"
      },
      "source": [
        "```get_random_data``` creates random dataset that has 2 features"
      ]
    },
    {
      "cell_type": "code",
      "metadata": {
        "id": "YnfZ63Myiwe9",
        "colab_type": "code",
        "colab": {}
      },
      "source": [
        "def get_random_data(w, b, mu, sigma, m):\n",
        "    seed(1)\n",
        "    \n",
        "    data_split = (int)(m * 80/100)\n",
        "\n",
        "    c = np.random.randint(2, size=(m, 1))\n",
        "    x_1 = np.random.uniform(size=(m, 1))\n",
        "    n = np.random.normal(mu, sigma, size=(m, 1))\n",
        "\n",
        "    x_2 = w * x_1 + b + (-1)**c * n\n",
        "\n",
        "    data = np.concatenate((x_1, x_2), axis=1)\n",
        "    labels = c\n",
        "\n",
        "    return ((data[:data_split], labels[:data_split]), (data[data_split:], labels[data_split:]))"
      ],
      "execution_count": 0,
      "outputs": []
    },
    {
      "cell_type": "markdown",
      "metadata": {
        "id": "BQ2xwhwuk-NG",
        "colab_type": "text"
      },
      "source": [
        "```display_random_data``` displays the data points as well as the line of best fit for the train data set"
      ]
    },
    {
      "cell_type": "code",
      "metadata": {
        "id": "ufQEfY6ojUbM",
        "colab_type": "code",
        "colab": {}
      },
      "source": [
        "def display_random_data(data, labels, w, b):\n",
        "  colors = ['red', 'blue']\n",
        "  plt.scatter(data[:,0].flatten(), data[:,1].flatten(), c=labels.flatten(), cmap=ListedColormap(colors))\n",
        "  x = np.linspace(0, 1, 100)\n",
        "  y = w * x + b\n",
        "  plt.plot(x, y)\n",
        "\n",
        "  plt.xlabel('$x_1$')\n",
        "  plt.ylabel('$x_2$')"
      ],
      "execution_count": 0,
      "outputs": []
    },
    {
      "cell_type": "markdown",
      "metadata": {
        "id": "DsH0qYVclmAS",
        "colab_type": "text"
      },
      "source": [
        "Now we generate some values to create the data and display the line"
      ]
    },
    {
      "cell_type": "code",
      "metadata": {
        "id": "iSsny-BCjaeq",
        "colab_type": "code",
        "colab": {
          "base_uri": "https://localhost:8080/",
          "height": 297
        },
        "outputId": "518b37a6-132d-4c19-c76b-481b8ff91c78"
      },
      "source": [
        "m = 500\n",
        "w = 2\n",
        "b = 4\n",
        "mu = 3\n",
        "sigma = 1.5\n",
        "(train_data, train_labels), (test_data, test_labels) = get_random_data(w, b, mu, sigma, m)\n",
        "display_random_data(train_data, train_labels, w, b)\n",
        "plt.title('Display Random Data')\n",
        "plt.show()"
      ],
      "execution_count": 5,
      "outputs": [
        {
          "output_type": "display_data",
          "data": {
            "image/png": "[encoded data removed]",
            "text/plain": [
              "<Figure size 432x288 with 1 Axes>"
            ]
          },
          "metadata": {
            "tags": []
          }
        }
      ]
    }
  ]
}