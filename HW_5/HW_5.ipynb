{
  "nbformat": 4,
  "nbformat_minor": 0,
  "metadata": {
    "colab": {
      "name": "HW_5.ipynb",
      "provenance": [],
      "collapsed_sections": [],
      "authorship_tag": "ABX9TyOFlH99uDluYHuvrirXNC1D",
      "include_colab_link": true
    },
    "kernelspec": {
      "name": "python3",
      "display_name": "Python 3"
    }
  },
  "cells": [
    {
      "cell_type": "markdown",
      "metadata": {
        "id": "view-in-github",
        "colab_type": "text"
      },
      "source": [
        "<a href=\"https://colab.research.google.com/github/shaunhyp57/Artificial-Intelligence-Machine-Learning/blob/master/HW_5/HW_5.ipynb\" target=\"_parent\"><img src=\"https://colab.research.google.com/assets/colab-badge.svg\" alt=\"Open In Colab\"/></a>"
      ]
    },
    {
      "cell_type": "code",
      "metadata": {
        "id": "UJra4aHT4Lc6",
        "colab_type": "code",
        "colab": {}
      },
      "source": [
        "from IPython.display import Image"
      ],
      "execution_count": 0,
      "outputs": []
    },
    {
      "cell_type": "markdown",
      "metadata": {
        "id": "iukL2T9M4RAV",
        "colab_type": "text"
      },
      "source": [
        "Artificial Intelligence is the ability of computer program to function like a human brain. "
      ]
    },
    {
      "cell_type": "markdown",
      "metadata": {
        "id": "o0NmktM76i00",
        "colab_type": "text"
      },
      "source": [
        "Input ----->+-----+\n",
        "           \n",
        "  /  /-----> Output\n",
        "Rules ----->+-----+"
      ]
    },
    {
      "cell_type": "code",
      "metadata": {
        "id": "pgLw6LDnCIN-",
        "colab_type": "code",
        "colab": {
          "base_uri": "https://localhost:8080/",
          "height": 71
        },
        "outputId": "dc275e03-0dea-425d-e5c0-c840eb09e408"
      },
      "source": [
        "![AI vs ML vs DL](https://github.com/shaunhyp57/Artificial-Intelligence-Machine-Learning/blob/master/HW_5/img/AIvsMLvsDL.png?raw=true)"
      ],
      "execution_count": 5,
      "outputs": [
        {
          "output_type": "stream",
          "text": [
            "/bin/bash: -c: line 0: syntax error near unexpected token `('\n",
            "/bin/bash: -c: line 0: `[AI vs ML vs DL](https://github.com/shaunhyp57/Artificial-Intelligence-Machine-Learning/blob/master/HW_5/img/AIvsMLvsDL.png?raw=true)'\n"
          ],
          "name": "stdout"
        }
      ]
    },
    {
      "cell_type": "code",
      "metadata": {
        "id": "fIz9uRaDEEtw",
        "colab_type": "code",
        "colab": {
          "base_uri": "https://localhost:8080/",
          "height": 150
        },
        "outputId": "943bd483-1e2b-4c95-effa-261d1085945e"
      },
      "source": [
        "<img src=\"https://github.com/shaunhyp57/Artificial-Intelligence-Machine-Learning/blob/master/HW_5/img/AIvsMLvsDL.png\"\\>"
      ],
      "execution_count": 4,
      "outputs": [
        {
          "output_type": "error",
          "ename": "SyntaxError",
          "evalue": "ignored",
          "traceback": [
            "\u001b[0;36m  File \u001b[0;32m\"<ipython-input-5-7504221b8fcd>\"\u001b[0;36m, line \u001b[0;32m1\u001b[0m\n\u001b[0;31m    <img src=\"https://github.com/shaunhyp57/Artificial-Intelligence-Machine-Learning/blob/master/HW_5/img/AIvsMLvsDL.png\"\\>\u001b[0m\n\u001b[0m    ^\u001b[0m\n\u001b[0;31mSyntaxError\u001b[0m\u001b[0;31m:\u001b[0m invalid syntax\n"
          ]
        }
      ]
    }
  ]
}