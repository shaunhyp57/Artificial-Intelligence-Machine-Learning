{
  "nbformat": 4,
  "nbformat_minor": 0,
  "metadata": {
    "colab": {
      "name": "HW_5.ipynb",
      "provenance": [],
      "collapsed_sections": [],
      "authorship_tag": "ABX9TyNDqTm4M5cdUqFDyAb2TzEV",
      "include_colab_link": true
    },
    "kernelspec": {
      "name": "python3",
      "display_name": "Python 3"
    }
  },
  "cells": [
    {
      "cell_type": "markdown",
      "metadata": {
        "id": "view-in-github",
        "colab_type": "text"
      },
      "source": [
        "<a href=\"https://colab.research.google.com/github/shaunhyp57/Artificial-Intelligence-Machine-Learning/blob/master/HW_5/HW_5.ipynb\" target=\"_parent\"><img src=\"https://colab.research.google.com/assets/colab-badge.svg\" alt=\"Open In Colab\"/></a>"
      ]
    },
    {
      "cell_type": "code",
      "metadata": {
        "id": "UJra4aHT4Lc6",
        "colab_type": "code",
        "colab": {}
      },
      "source": [
        ""
      ],
      "execution_count": 0,
      "outputs": []
    },
    {
      "cell_type": "markdown",
      "metadata": {
        "id": "iukL2T9M4RAV",
        "colab_type": "text"
      },
      "source": [
        "Artificial Intelligence is the ability of computer program to function like a human brain. "
      ]
    },
    {
      "cell_type": "markdown",
      "metadata": {
        "id": "o0NmktM76i00",
        "colab_type": "text"
      },
      "source": [
        "Input ----->+-----+\n",
        "           \n",
        "  /  /-----> Output\n",
        "Rules ----->+-----+"
      ]
    }
  ]
}