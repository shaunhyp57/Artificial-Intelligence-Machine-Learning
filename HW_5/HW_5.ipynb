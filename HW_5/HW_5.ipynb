{
  "nbformat": 4,
  "nbformat_minor": 0,
  "metadata": {
    "colab": {
      "name": "HW_5.ipynb",
      "provenance": [],
      "collapsed_sections": [],
      "authorship_tag": "ABX9TyN1/ZQzcY9Y+oBQ+nmEHraH",
      "include_colab_link": true
    },
    "kernelspec": {
      "name": "python3",
      "display_name": "Python 3"
    }
  },
  "cells": [
    {
      "cell_type": "markdown",
      "metadata": {
        "id": "view-in-github",
        "colab_type": "text"
      },
      "source": [
        "<a href=\"https://colab.research.google.com/github/shaunhyp57/Artificial-Intelligence-Machine-Learning/blob/master/HW_5/HW_5.ipynb\" target=\"_parent\"><img src=\"https://colab.research.google.com/assets/colab-badge.svg\" alt=\"Open In Colab\"/></a>"
      ]
    },
    {
      "cell_type": "markdown",
      "metadata": {
        "id": "sIIc3IewvYOj",
        "colab_type": "text"
      },
      "source": [
        "## Artificial Intelligence vs Machine Learning vs Deep Learning"
      ]
    },
    {
      "cell_type": "markdown",
      "metadata": {
        "id": "iukL2T9M4RAV",
        "colab_type": "text"
      },
      "source": [
        "**Artificial Intelligence** is the ability of computer program to function like a human brain. \n",
        "\n",
        "Whenever a machine completes tasks based on a set of stipulated rules that solve problems (algorithms), such an “intelligent” behavior is what is called artificial intelligence."
      ]
    },
    {
      "cell_type": "markdown",
      "metadata": {
        "id": "D69Mr6Q6v06o",
        "colab_type": "text"
      },
      "source": [
        "**Machine Learning** is the field of study that gives computers ability to learn without being explicitly programmed.\n",
        "\n",
        "Machine learning programs adjust themselves to a set of data they are exposed to."
      ]
    },
    {
      "cell_type": "markdown",
      "metadata": {
        "id": "LXq0zt0aLtZg",
        "colab_type": "text"
      },
      "source": [
        "![image1](https://github.com/shaunhyp57/Artificial-Intelligence-Machine-Learning/blob/master/HW_5/img/AIvsMLvsDL.png?raw=true)"
      ]
    }
  ]
}