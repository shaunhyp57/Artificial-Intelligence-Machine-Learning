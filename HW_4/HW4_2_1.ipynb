{
  "nbformat": 4,
  "nbformat_minor": 0,
  "metadata": {
    "colab": {
      "name": "HW4-2-1.ipynb",
      "provenance": [],
      "collapsed_sections": [],
      "include_colab_link": true
    },
    "kernelspec": {
      "name": "python3",
      "display_name": "Python 3"
    },
    "accelerator": "GPU"
  },
  "cells": [
    {
      "cell_type": "markdown",
      "metadata": {
        "id": "view-in-github",
        "colab_type": "text"
      },
      "source": [
        "<a href=\"https://colab.research.google.com/github/shaunhyp57/Artificial-Intelligence-Machine-Learning/blob/master/HW_4/HW4_2_1.ipynb\" target=\"_parent\"><img src=\"https://colab.research.google.com/assets/colab-badge.svg\" alt=\"Open In Colab\"/></a>"
      ]
    },
    {
      "cell_type": "markdown",
      "metadata": {
        "id": "KSrgMJ5vKFzQ",
        "colab_type": "text"
      },
      "source": [
        "# Fine-tuning Xception "
      ]
    },
    {
      "cell_type": "markdown",
      "metadata": {
        "id": "BqIG8QHMLNOn",
        "colab_type": "text"
      },
      "source": [
        "## Download the data"
      ]
    },
    {
      "cell_type": "markdown",
      "metadata": {
        "id": "t3I1jd7cKV6_",
        "colab_type": "text"
      },
      "source": [
        "Download the example data, a zip. of 2,000 JPG pictures of cats and dogs and extract it locally in ```/tmp```.\n",
        "\n"
      ]
    },
    {
      "cell_type": "code",
      "metadata": {
        "id": "JWjprHEXJ5Qi",
        "colab_type": "code",
        "outputId": "14e7564b-09b4-4a51-dd75-45f57b8547c3",
        "colab": {
          "base_uri": "https://localhost:8080/",
          "height": 204
        }
      },
      "source": [
        "!wget --no-check-certificate \\\n",
        "    https://storage.googleapis.com/mledu-datasets/cats_and_dogs_filtered.zip \\\n",
        "    -O /tmp/cats_and_dogs_filtered.zip"
      ],
      "execution_count": 29,
      "outputs": [
        {
          "output_type": "stream",
          "text": [
            "--2020-04-21 15:23:49--  https://storage.googleapis.com/mledu-datasets/cats_and_dogs_filtered.zip\n",
            "Resolving storage.googleapis.com (storage.googleapis.com)... 108.177.119.128, 2a00:1450:4013:c04::80\n",
            "Connecting to storage.googleapis.com (storage.googleapis.com)|108.177.119.128|:443... connected.\n",
            "HTTP request sent, awaiting response... 200 OK\n",
            "Length: 68606236 (65M) [application/zip]\n",
            "Saving to: ‘/tmp/cats_and_dogs_filtered.zip’\n",
            "\n",
            "/tmp/cats_and_dogs_ 100%[===================>]  65.43M   109MB/s    in 0.6s    \n",
            "\n",
            "2020-04-21 15:23:50 (109 MB/s) - ‘/tmp/cats_and_dogs_filtered.zip’ saved [68606236/68606236]\n",
            "\n"
          ],
          "name": "stdout"
        }
      ]
    },
    {
      "cell_type": "code",
      "metadata": {
        "id": "WvoHtdA-K6Rw",
        "colab_type": "code",
        "colab": {}
      },
      "source": [
        "import os\n",
        "import zipfile\n",
        "\n",
        "local_zip = '/tmp/cats_and_dogs_filtered.zip'\n",
        "zip_ref = zipfile.ZipFile(local_zip, 'r')\n",
        "zip_ref.extractall('/tmp')\n",
        "zip_ref.close()"
      ],
      "execution_count": 0,
      "outputs": []
    },
    {
      "cell_type": "markdown",
      "metadata": {
        "id": "shZiOBnJMyy_",
        "colab_type": "text"
      },
      "source": [
        "Note that the data provided by Google does not have a test set."
      ]
    },
    {
      "cell_type": "code",
      "metadata": {
        "id": "dL8ikM89LlsH",
        "colab_type": "code",
        "colab": {}
      },
      "source": [
        "base_dir = '/tmp/cats_and_dogs_filtered'\n",
        "train_dir = os.path.join(base_dir, 'train')\n",
        "validation_dir = os.path.join(base_dir, 'validation')\n",
        "\n",
        "# Directory with our training cat pictures\n",
        "train_cats_dir = os.path.join(train_dir, 'cats')\n",
        "\n",
        "# Directory with our training dog pictures\n",
        "train_dogs_dir = os.path.join(train_dir, 'dogs')\n",
        "\n",
        "# Directory with our validation cat pictures\n",
        "validation_cats_dir = os.path.join(validation_dir, 'cats')\n",
        "\n",
        "# Directory with our validation dog pictures\n",
        "validation_dogs_dir = os.path.join(validation_dir, 'dogs')"
      ],
      "execution_count": 0,
      "outputs": []
    },
    {
      "cell_type": "markdown",
      "metadata": {
        "id": "inyP8bcdXnn-",
        "colab_type": "text"
      },
      "source": [
        "## Build network with MobileNet convolution base and custom densely connected layers"
      ]
    },
    {
      "cell_type": "markdown",
      "metadata": {
        "id": "kQ48W5T9rHWu",
        "colab_type": "text"
      },
      "source": [
        "### Load the convolutional base"
      ]
    },
    {
      "cell_type": "code",
      "metadata": {
        "id": "Y0FgtANCXm_H",
        "colab_type": "code",
        "colab": {}
      },
      "source": [
        "%tensorflow_version 2.x\n",
        "import tensorflow as tf\n",
        "from tensorflow import keras\n",
        "from tensorflow.keras.applications import Xception\n",
        "\n",
        "#Change to another one!!\n",
        "conv_base = Xception(\n",
        "    weights='imagenet', \n",
        "    include_top=False, \n",
        "    input_shape=(150, 150, 3))\n",
        "\n",
        "# conv_base = MobileNet(\n",
        "#       weights = 'imagenet',\n",
        "#       include_top = False,\n",
        "#       input_shape = (150, 150, 3))"
      ],
      "execution_count": 0,
      "outputs": []
    },
    {
      "cell_type": "code",
      "metadata": {
        "id": "lSA64ZHlYjPM",
        "colab_type": "code",
        "outputId": "6b681b4b-1a3d-45a6-c4db-ed3e39ba4863",
        "colab": {
          "base_uri": "https://localhost:8080/",
          "height": 1000
        }
      },
      "source": [
        "conv_base.summary()"
      ],
      "execution_count": 14,
      "outputs": [
        {
          "output_type": "stream",
          "text": [
            "Model: \"xception\"\n",
            "__________________________________________________________________________________________________\n",
            "Layer (type)                    Output Shape         Param #     Connected to                     \n",
            "==================================================================================================\n",
            "input_2 (InputLayer)            [(None, 150, 150, 3) 0                                            \n",
            "__________________________________________________________________________________________________\n",
            "block1_conv1 (Conv2D)           (None, 74, 74, 32)   864         input_2[0][0]                    \n",
            "__________________________________________________________________________________________________\n",
            "block1_conv1_bn (BatchNormaliza (None, 74, 74, 32)   128         block1_conv1[0][0]               \n",
            "__________________________________________________________________________________________________\n",
            "block1_conv1_act (Activation)   (None, 74, 74, 32)   0           block1_conv1_bn[0][0]            \n",
            "__________________________________________________________________________________________________\n",
            "block1_conv2 (Conv2D)           (None, 72, 72, 64)   18432       block1_conv1_act[0][0]           \n",
            "__________________________________________________________________________________________________\n",
            "block1_conv2_bn (BatchNormaliza (None, 72, 72, 64)   256         block1_conv2[0][0]               \n",
            "__________________________________________________________________________________________________\n",
            "block1_conv2_act (Activation)   (None, 72, 72, 64)   0           block1_conv2_bn[0][0]            \n",
            "__________________________________________________________________________________________________\n",
            "block2_sepconv1 (SeparableConv2 (None, 72, 72, 128)  8768        block1_conv2_act[0][0]           \n",
            "__________________________________________________________________________________________________\n",
            "block2_sepconv1_bn (BatchNormal (None, 72, 72, 128)  512         block2_sepconv1[0][0]            \n",
            "__________________________________________________________________________________________________\n",
            "block2_sepconv2_act (Activation (None, 72, 72, 128)  0           block2_sepconv1_bn[0][0]         \n",
            "__________________________________________________________________________________________________\n",
            "block2_sepconv2 (SeparableConv2 (None, 72, 72, 128)  17536       block2_sepconv2_act[0][0]        \n",
            "__________________________________________________________________________________________________\n",
            "block2_sepconv2_bn (BatchNormal (None, 72, 72, 128)  512         block2_sepconv2[0][0]            \n",
            "__________________________________________________________________________________________________\n",
            "conv2d_4 (Conv2D)               (None, 36, 36, 128)  8192        block1_conv2_act[0][0]           \n",
            "__________________________________________________________________________________________________\n",
            "block2_pool (MaxPooling2D)      (None, 36, 36, 128)  0           block2_sepconv2_bn[0][0]         \n",
            "__________________________________________________________________________________________________\n",
            "batch_normalization_4 (BatchNor (None, 36, 36, 128)  512         conv2d_4[0][0]                   \n",
            "__________________________________________________________________________________________________\n",
            "add_12 (Add)                    (None, 36, 36, 128)  0           block2_pool[0][0]                \n",
            "                                                                 batch_normalization_4[0][0]      \n",
            "__________________________________________________________________________________________________\n",
            "block3_sepconv1_act (Activation (None, 36, 36, 128)  0           add_12[0][0]                     \n",
            "__________________________________________________________________________________________________\n",
            "block3_sepconv1 (SeparableConv2 (None, 36, 36, 256)  33920       block3_sepconv1_act[0][0]        \n",
            "__________________________________________________________________________________________________\n",
            "block3_sepconv1_bn (BatchNormal (None, 36, 36, 256)  1024        block3_sepconv1[0][0]            \n",
            "__________________________________________________________________________________________________\n",
            "block3_sepconv2_act (Activation (None, 36, 36, 256)  0           block3_sepconv1_bn[0][0]         \n",
            "__________________________________________________________________________________________________\n",
            "block3_sepconv2 (SeparableConv2 (None, 36, 36, 256)  67840       block3_sepconv2_act[0][0]        \n",
            "__________________________________________________________________________________________________\n",
            "block3_sepconv2_bn (BatchNormal (None, 36, 36, 256)  1024        block3_sepconv2[0][0]            \n",
            "__________________________________________________________________________________________________\n",
            "conv2d_5 (Conv2D)               (None, 18, 18, 256)  32768       add_12[0][0]                     \n",
            "__________________________________________________________________________________________________\n",
            "block3_pool (MaxPooling2D)      (None, 18, 18, 256)  0           block3_sepconv2_bn[0][0]         \n",
            "__________________________________________________________________________________________________\n",
            "batch_normalization_5 (BatchNor (None, 18, 18, 256)  1024        conv2d_5[0][0]                   \n",
            "__________________________________________________________________________________________________\n",
            "add_13 (Add)                    (None, 18, 18, 256)  0           block3_pool[0][0]                \n",
            "                                                                 batch_normalization_5[0][0]      \n",
            "__________________________________________________________________________________________________\n",
            "block4_sepconv1_act (Activation (None, 18, 18, 256)  0           add_13[0][0]                     \n",
            "__________________________________________________________________________________________________\n",
            "block4_sepconv1 (SeparableConv2 (None, 18, 18, 728)  188672      block4_sepconv1_act[0][0]        \n",
            "__________________________________________________________________________________________________\n",
            "block4_sepconv1_bn (BatchNormal (None, 18, 18, 728)  2912        block4_sepconv1[0][0]            \n",
            "__________________________________________________________________________________________________\n",
            "block4_sepconv2_act (Activation (None, 18, 18, 728)  0           block4_sepconv1_bn[0][0]         \n",
            "__________________________________________________________________________________________________\n",
            "block4_sepconv2 (SeparableConv2 (None, 18, 18, 728)  536536      block4_sepconv2_act[0][0]        \n",
            "__________________________________________________________________________________________________\n",
            "block4_sepconv2_bn (BatchNormal (None, 18, 18, 728)  2912        block4_sepconv2[0][0]            \n",
            "__________________________________________________________________________________________________\n",
            "conv2d_6 (Conv2D)               (None, 9, 9, 728)    186368      add_13[0][0]                     \n",
            "__________________________________________________________________________________________________\n",
            "block4_pool (MaxPooling2D)      (None, 9, 9, 728)    0           block4_sepconv2_bn[0][0]         \n",
            "__________________________________________________________________________________________________\n",
            "batch_normalization_6 (BatchNor (None, 9, 9, 728)    2912        conv2d_6[0][0]                   \n",
            "__________________________________________________________________________________________________\n",
            "add_14 (Add)                    (None, 9, 9, 728)    0           block4_pool[0][0]                \n",
            "                                                                 batch_normalization_6[0][0]      \n",
            "__________________________________________________________________________________________________\n",
            "block5_sepconv1_act (Activation (None, 9, 9, 728)    0           add_14[0][0]                     \n",
            "__________________________________________________________________________________________________\n",
            "block5_sepconv1 (SeparableConv2 (None, 9, 9, 728)    536536      block5_sepconv1_act[0][0]        \n",
            "__________________________________________________________________________________________________\n",
            "block5_sepconv1_bn (BatchNormal (None, 9, 9, 728)    2912        block5_sepconv1[0][0]            \n",
            "__________________________________________________________________________________________________\n",
            "block5_sepconv2_act (Activation (None, 9, 9, 728)    0           block5_sepconv1_bn[0][0]         \n",
            "__________________________________________________________________________________________________\n",
            "block5_sepconv2 (SeparableConv2 (None, 9, 9, 728)    536536      block5_sepconv2_act[0][0]        \n",
            "__________________________________________________________________________________________________\n",
            "block5_sepconv2_bn (BatchNormal (None, 9, 9, 728)    2912        block5_sepconv2[0][0]            \n",
            "__________________________________________________________________________________________________\n",
            "block5_sepconv3_act (Activation (None, 9, 9, 728)    0           block5_sepconv2_bn[0][0]         \n",
            "__________________________________________________________________________________________________\n",
            "block5_sepconv3 (SeparableConv2 (None, 9, 9, 728)    536536      block5_sepconv3_act[0][0]        \n",
            "__________________________________________________________________________________________________\n",
            "block5_sepconv3_bn (BatchNormal (None, 9, 9, 728)    2912        block5_sepconv3[0][0]            \n",
            "__________________________________________________________________________________________________\n",
            "add_15 (Add)                    (None, 9, 9, 728)    0           block5_sepconv3_bn[0][0]         \n",
            "                                                                 add_14[0][0]                     \n",
            "__________________________________________________________________________________________________\n",
            "block6_sepconv1_act (Activation (None, 9, 9, 728)    0           add_15[0][0]                     \n",
            "__________________________________________________________________________________________________\n",
            "block6_sepconv1 (SeparableConv2 (None, 9, 9, 728)    536536      block6_sepconv1_act[0][0]        \n",
            "__________________________________________________________________________________________________\n",
            "block6_sepconv1_bn (BatchNormal (None, 9, 9, 728)    2912        block6_sepconv1[0][0]            \n",
            "__________________________________________________________________________________________________\n",
            "block6_sepconv2_act (Activation (None, 9, 9, 728)    0           block6_sepconv1_bn[0][0]         \n",
            "__________________________________________________________________________________________________\n",
            "block6_sepconv2 (SeparableConv2 (None, 9, 9, 728)    536536      block6_sepconv2_act[0][0]        \n",
            "__________________________________________________________________________________________________\n",
            "block6_sepconv2_bn (BatchNormal (None, 9, 9, 728)    2912        block6_sepconv2[0][0]            \n",
            "__________________________________________________________________________________________________\n",
            "block6_sepconv3_act (Activation (None, 9, 9, 728)    0           block6_sepconv2_bn[0][0]         \n",
            "__________________________________________________________________________________________________\n",
            "block6_sepconv3 (SeparableConv2 (None, 9, 9, 728)    536536      block6_sepconv3_act[0][0]        \n",
            "__________________________________________________________________________________________________\n",
            "block6_sepconv3_bn (BatchNormal (None, 9, 9, 728)    2912        block6_sepconv3[0][0]            \n",
            "__________________________________________________________________________________________________\n",
            "add_16 (Add)                    (None, 9, 9, 728)    0           block6_sepconv3_bn[0][0]         \n",
            "                                                                 add_15[0][0]                     \n",
            "__________________________________________________________________________________________________\n",
            "block7_sepconv1_act (Activation (None, 9, 9, 728)    0           add_16[0][0]                     \n",
            "__________________________________________________________________________________________________\n",
            "block7_sepconv1 (SeparableConv2 (None, 9, 9, 728)    536536      block7_sepconv1_act[0][0]        \n",
            "__________________________________________________________________________________________________\n",
            "block7_sepconv1_bn (BatchNormal (None, 9, 9, 728)    2912        block7_sepconv1[0][0]            \n",
            "__________________________________________________________________________________________________\n",
            "block7_sepconv2_act (Activation (None, 9, 9, 728)    0           block7_sepconv1_bn[0][0]         \n",
            "__________________________________________________________________________________________________\n",
            "block7_sepconv2 (SeparableConv2 (None, 9, 9, 728)    536536      block7_sepconv2_act[0][0]        \n",
            "__________________________________________________________________________________________________\n",
            "block7_sepconv2_bn (BatchNormal (None, 9, 9, 728)    2912        block7_sepconv2[0][0]            \n",
            "__________________________________________________________________________________________________\n",
            "block7_sepconv3_act (Activation (None, 9, 9, 728)    0           block7_sepconv2_bn[0][0]         \n",
            "__________________________________________________________________________________________________\n",
            "block7_sepconv3 (SeparableConv2 (None, 9, 9, 728)    536536      block7_sepconv3_act[0][0]        \n",
            "__________________________________________________________________________________________________\n",
            "block7_sepconv3_bn (BatchNormal (None, 9, 9, 728)    2912        block7_sepconv3[0][0]            \n",
            "__________________________________________________________________________________________________\n",
            "add_17 (Add)                    (None, 9, 9, 728)    0           block7_sepconv3_bn[0][0]         \n",
            "                                                                 add_16[0][0]                     \n",
            "__________________________________________________________________________________________________\n",
            "block8_sepconv1_act (Activation (None, 9, 9, 728)    0           add_17[0][0]                     \n",
            "__________________________________________________________________________________________________\n",
            "block8_sepconv1 (SeparableConv2 (None, 9, 9, 728)    536536      block8_sepconv1_act[0][0]        \n",
            "__________________________________________________________________________________________________\n",
            "block8_sepconv1_bn (BatchNormal (None, 9, 9, 728)    2912        block8_sepconv1[0][0]            \n",
            "__________________________________________________________________________________________________\n",
            "block8_sepconv2_act (Activation (None, 9, 9, 728)    0           block8_sepconv1_bn[0][0]         \n",
            "__________________________________________________________________________________________________\n",
            "block8_sepconv2 (SeparableConv2 (None, 9, 9, 728)    536536      block8_sepconv2_act[0][0]        \n",
            "__________________________________________________________________________________________________\n",
            "block8_sepconv2_bn (BatchNormal (None, 9, 9, 728)    2912        block8_sepconv2[0][0]            \n",
            "__________________________________________________________________________________________________\n",
            "block8_sepconv3_act (Activation (None, 9, 9, 728)    0           block8_sepconv2_bn[0][0]         \n",
            "__________________________________________________________________________________________________\n",
            "block8_sepconv3 (SeparableConv2 (None, 9, 9, 728)    536536      block8_sepconv3_act[0][0]        \n",
            "__________________________________________________________________________________________________\n",
            "block8_sepconv3_bn (BatchNormal (None, 9, 9, 728)    2912        block8_sepconv3[0][0]            \n",
            "__________________________________________________________________________________________________\n",
            "add_18 (Add)                    (None, 9, 9, 728)    0           block8_sepconv3_bn[0][0]         \n",
            "                                                                 add_17[0][0]                     \n",
            "__________________________________________________________________________________________________\n",
            "block9_sepconv1_act (Activation (None, 9, 9, 728)    0           add_18[0][0]                     \n",
            "__________________________________________________________________________________________________\n",
            "block9_sepconv1 (SeparableConv2 (None, 9, 9, 728)    536536      block9_sepconv1_act[0][0]        \n",
            "__________________________________________________________________________________________________\n",
            "block9_sepconv1_bn (BatchNormal (None, 9, 9, 728)    2912        block9_sepconv1[0][0]            \n",
            "__________________________________________________________________________________________________\n",
            "block9_sepconv2_act (Activation (None, 9, 9, 728)    0           block9_sepconv1_bn[0][0]         \n",
            "__________________________________________________________________________________________________\n",
            "block9_sepconv2 (SeparableConv2 (None, 9, 9, 728)    536536      block9_sepconv2_act[0][0]        \n",
            "__________________________________________________________________________________________________\n",
            "block9_sepconv2_bn (BatchNormal (None, 9, 9, 728)    2912        block9_sepconv2[0][0]            \n",
            "__________________________________________________________________________________________________\n",
            "block9_sepconv3_act (Activation (None, 9, 9, 728)    0           block9_sepconv2_bn[0][0]         \n",
            "__________________________________________________________________________________________________\n",
            "block9_sepconv3 (SeparableConv2 (None, 9, 9, 728)    536536      block9_sepconv3_act[0][0]        \n",
            "__________________________________________________________________________________________________\n",
            "block9_sepconv3_bn (BatchNormal (None, 9, 9, 728)    2912        block9_sepconv3[0][0]            \n",
            "__________________________________________________________________________________________________\n",
            "add_19 (Add)                    (None, 9, 9, 728)    0           block9_sepconv3_bn[0][0]         \n",
            "                                                                 add_18[0][0]                     \n",
            "__________________________________________________________________________________________________\n",
            "block10_sepconv1_act (Activatio (None, 9, 9, 728)    0           add_19[0][0]                     \n",
            "__________________________________________________________________________________________________\n",
            "block10_sepconv1 (SeparableConv (None, 9, 9, 728)    536536      block10_sepconv1_act[0][0]       \n",
            "__________________________________________________________________________________________________\n",
            "block10_sepconv1_bn (BatchNorma (None, 9, 9, 728)    2912        block10_sepconv1[0][0]           \n",
            "__________________________________________________________________________________________________\n",
            "block10_sepconv2_act (Activatio (None, 9, 9, 728)    0           block10_sepconv1_bn[0][0]        \n",
            "__________________________________________________________________________________________________\n",
            "block10_sepconv2 (SeparableConv (None, 9, 9, 728)    536536      block10_sepconv2_act[0][0]       \n",
            "__________________________________________________________________________________________________\n",
            "block10_sepconv2_bn (BatchNorma (None, 9, 9, 728)    2912        block10_sepconv2[0][0]           \n",
            "__________________________________________________________________________________________________\n",
            "block10_sepconv3_act (Activatio (None, 9, 9, 728)    0           block10_sepconv2_bn[0][0]        \n",
            "__________________________________________________________________________________________________\n",
            "block10_sepconv3 (SeparableConv (None, 9, 9, 728)    536536      block10_sepconv3_act[0][0]       \n",
            "__________________________________________________________________________________________________\n",
            "block10_sepconv3_bn (BatchNorma (None, 9, 9, 728)    2912        block10_sepconv3[0][0]           \n",
            "__________________________________________________________________________________________________\n",
            "add_20 (Add)                    (None, 9, 9, 728)    0           block10_sepconv3_bn[0][0]        \n",
            "                                                                 add_19[0][0]                     \n",
            "__________________________________________________________________________________________________\n",
            "block11_sepconv1_act (Activatio (None, 9, 9, 728)    0           add_20[0][0]                     \n",
            "__________________________________________________________________________________________________\n",
            "block11_sepconv1 (SeparableConv (None, 9, 9, 728)    536536      block11_sepconv1_act[0][0]       \n",
            "__________________________________________________________________________________________________\n",
            "block11_sepconv1_bn (BatchNorma (None, 9, 9, 728)    2912        block11_sepconv1[0][0]           \n",
            "__________________________________________________________________________________________________\n",
            "block11_sepconv2_act (Activatio (None, 9, 9, 728)    0           block11_sepconv1_bn[0][0]        \n",
            "__________________________________________________________________________________________________\n",
            "block11_sepconv2 (SeparableConv (None, 9, 9, 728)    536536      block11_sepconv2_act[0][0]       \n",
            "__________________________________________________________________________________________________\n",
            "block11_sepconv2_bn (BatchNorma (None, 9, 9, 728)    2912        block11_sepconv2[0][0]           \n",
            "__________________________________________________________________________________________________\n",
            "block11_sepconv3_act (Activatio (None, 9, 9, 728)    0           block11_sepconv2_bn[0][0]        \n",
            "__________________________________________________________________________________________________\n",
            "block11_sepconv3 (SeparableConv (None, 9, 9, 728)    536536      block11_sepconv3_act[0][0]       \n",
            "__________________________________________________________________________________________________\n",
            "block11_sepconv3_bn (BatchNorma (None, 9, 9, 728)    2912        block11_sepconv3[0][0]           \n",
            "__________________________________________________________________________________________________\n",
            "add_21 (Add)                    (None, 9, 9, 728)    0           block11_sepconv3_bn[0][0]        \n",
            "                                                                 add_20[0][0]                     \n",
            "__________________________________________________________________________________________________\n",
            "block12_sepconv1_act (Activatio (None, 9, 9, 728)    0           add_21[0][0]                     \n",
            "__________________________________________________________________________________________________\n",
            "block12_sepconv1 (SeparableConv (None, 9, 9, 728)    536536      block12_sepconv1_act[0][0]       \n",
            "__________________________________________________________________________________________________\n",
            "block12_sepconv1_bn (BatchNorma (None, 9, 9, 728)    2912        block12_sepconv1[0][0]           \n",
            "__________________________________________________________________________________________________\n",
            "block12_sepconv2_act (Activatio (None, 9, 9, 728)    0           block12_sepconv1_bn[0][0]        \n",
            "__________________________________________________________________________________________________\n",
            "block12_sepconv2 (SeparableConv (None, 9, 9, 728)    536536      block12_sepconv2_act[0][0]       \n",
            "__________________________________________________________________________________________________\n",
            "block12_sepconv2_bn (BatchNorma (None, 9, 9, 728)    2912        block12_sepconv2[0][0]           \n",
            "__________________________________________________________________________________________________\n",
            "block12_sepconv3_act (Activatio (None, 9, 9, 728)    0           block12_sepconv2_bn[0][0]        \n",
            "__________________________________________________________________________________________________\n",
            "block12_sepconv3 (SeparableConv (None, 9, 9, 728)    536536      block12_sepconv3_act[0][0]       \n",
            "__________________________________________________________________________________________________\n",
            "block12_sepconv3_bn (BatchNorma (None, 9, 9, 728)    2912        block12_sepconv3[0][0]           \n",
            "__________________________________________________________________________________________________\n",
            "add_22 (Add)                    (None, 9, 9, 728)    0           block12_sepconv3_bn[0][0]        \n",
            "                                                                 add_21[0][0]                     \n",
            "__________________________________________________________________________________________________\n",
            "block13_sepconv1_act (Activatio (None, 9, 9, 728)    0           add_22[0][0]                     \n",
            "__________________________________________________________________________________________________\n",
            "block13_sepconv1 (SeparableConv (None, 9, 9, 728)    536536      block13_sepconv1_act[0][0]       \n",
            "__________________________________________________________________________________________________\n",
            "block13_sepconv1_bn (BatchNorma (None, 9, 9, 728)    2912        block13_sepconv1[0][0]           \n",
            "__________________________________________________________________________________________________\n",
            "block13_sepconv2_act (Activatio (None, 9, 9, 728)    0           block13_sepconv1_bn[0][0]        \n",
            "__________________________________________________________________________________________________\n",
            "block13_sepconv2 (SeparableConv (None, 9, 9, 1024)   752024      block13_sepconv2_act[0][0]       \n",
            "__________________________________________________________________________________________________\n",
            "block13_sepconv2_bn (BatchNorma (None, 9, 9, 1024)   4096        block13_sepconv2[0][0]           \n",
            "__________________________________________________________________________________________________\n",
            "conv2d_7 (Conv2D)               (None, 5, 5, 1024)   745472      add_22[0][0]                     \n",
            "__________________________________________________________________________________________________\n",
            "block13_pool (MaxPooling2D)     (None, 5, 5, 1024)   0           block13_sepconv2_bn[0][0]        \n",
            "__________________________________________________________________________________________________\n",
            "batch_normalization_7 (BatchNor (None, 5, 5, 1024)   4096        conv2d_7[0][0]                   \n",
            "__________________________________________________________________________________________________\n",
            "add_23 (Add)                    (None, 5, 5, 1024)   0           block13_pool[0][0]               \n",
            "                                                                 batch_normalization_7[0][0]      \n",
            "__________________________________________________________________________________________________\n",
            "block14_sepconv1 (SeparableConv (None, 5, 5, 1536)   1582080     add_23[0][0]                     \n",
            "__________________________________________________________________________________________________\n",
            "block14_sepconv1_bn (BatchNorma (None, 5, 5, 1536)   6144        block14_sepconv1[0][0]           \n",
            "__________________________________________________________________________________________________\n",
            "block14_sepconv1_act (Activatio (None, 5, 5, 1536)   0           block14_sepconv1_bn[0][0]        \n",
            "__________________________________________________________________________________________________\n",
            "block14_sepconv2 (SeparableConv (None, 5, 5, 2048)   3159552     block14_sepconv1_act[0][0]       \n",
            "__________________________________________________________________________________________________\n",
            "block14_sepconv2_bn (BatchNorma (None, 5, 5, 2048)   8192        block14_sepconv2[0][0]           \n",
            "__________________________________________________________________________________________________\n",
            "block14_sepconv2_act (Activatio (None, 5, 5, 2048)   0           block14_sepconv2_bn[0][0]        \n",
            "==================================================================================================\n",
            "Total params: 20,861,480\n",
            "Trainable params: 20,806,952\n",
            "Non-trainable params: 54,528\n",
            "__________________________________________________________________________________________________\n"
          ],
          "name": "stdout"
        }
      ]
    },
    {
      "cell_type": "markdown",
      "metadata": {
        "id": "D6OBHOO9q1ou",
        "colab_type": "text"
      },
      "source": [
        "### Freeze the convolutional base"
      ]
    },
    {
      "cell_type": "code",
      "metadata": {
        "id": "UleRo4Dpq6Ld",
        "colab_type": "code",
        "colab": {}
      },
      "source": [
        "conv_base.trainable = False"
      ],
      "execution_count": 0,
      "outputs": []
    },
    {
      "cell_type": "markdown",
      "metadata": {
        "id": "Qfx6PqhPrb7Q",
        "colab_type": "text"
      },
      "source": [
        "### Concatenate the convolutional base and densely connected layers"
      ]
    },
    {
      "cell_type": "code",
      "metadata": {
        "id": "qUpmocDAO3xm",
        "colab_type": "code",
        "colab": {}
      },
      "source": [
        "from tensorflow.keras import layers\n",
        "from tensorflow.keras import models\n",
        "from tensorflow.keras import optimizers\n",
        "\n",
        "model = models.Sequential()\n",
        "model.add(conv_base)\n",
        "model.add(layers.Flatten())\n",
        "model.add(layers.Dense(512, activation='relu'))\n",
        "#model.add(layers.Dropout(0.1))\n",
        "model.add(layers.Dense(1, activation='sigmoid'))"
      ],
      "execution_count": 0,
      "outputs": []
    },
    {
      "cell_type": "code",
      "metadata": {
        "id": "Fh6gZSeAjF7c",
        "colab_type": "code",
        "outputId": "49e203a1-f9e4-4a4e-9c21-87e71af3aa77",
        "colab": {
          "base_uri": "https://localhost:8080/",
          "height": 289
        }
      },
      "source": [
        "model.summary()"
      ],
      "execution_count": 35,
      "outputs": [
        {
          "output_type": "stream",
          "text": [
            "Model: \"sequential_2\"\n",
            "_________________________________________________________________\n",
            "Layer (type)                 Output Shape              Param #   \n",
            "=================================================================\n",
            "xception (Model)             (None, 5, 5, 2048)        20861480  \n",
            "_________________________________________________________________\n",
            "flatten_2 (Flatten)          (None, 51200)             0         \n",
            "_________________________________________________________________\n",
            "dense_4 (Dense)              (None, 512)               26214912  \n",
            "_________________________________________________________________\n",
            "dense_5 (Dense)              (None, 1)                 513       \n",
            "=================================================================\n",
            "Total params: 47,076,905\n",
            "Trainable params: 26,215,425\n",
            "Non-trainable params: 20,861,480\n",
            "_________________________________________________________________\n"
          ],
          "name": "stdout"
        }
      ]
    },
    {
      "cell_type": "markdown",
      "metadata": {
        "id": "eZjBiddhi5Qj",
        "colab_type": "text"
      },
      "source": [
        "## Train the model end to end with frozen convolutional base"
      ]
    },
    {
      "cell_type": "code",
      "metadata": {
        "id": "tfAQlC2Oi41L",
        "colab_type": "code",
        "outputId": "c4d92236-eef2-4207-cd93-4ecbd6eb95d9",
        "colab": {
          "base_uri": "https://localhost:8080/",
          "height": 1000
        }
      },
      "source": [
        "from tensorflow.keras.preprocessing.image import ImageDataGenerator\n",
        "from tensorflow.keras import optimizers\n",
        "\n",
        "# data augmentation\n",
        "\n",
        "train_datagen = ImageDataGenerator(\n",
        "    rescale=1./255, \n",
        "    rotation_range=40,\n",
        "    width_shift_range=0.2,\n",
        "    height_shift_range=0.2,\n",
        "    shear_range=0.2,\n",
        "    zoom_range=0.2,\n",
        "    horizontal_flip=True,\n",
        "    fill_mode='nearest'\n",
        ")\n",
        "\n",
        "train_generator = train_datagen.flow_from_directory(\n",
        "    train_dir,\n",
        "    target_size=(150, 150),\n",
        "    batch_size=20,\n",
        "    class_mode='binary')\n",
        "\n",
        "validation_datagen = ImageDataGenerator(rescale=1./255)\n",
        "\n",
        "validation_generator = validation_datagen.flow_from_directory(\n",
        "    validation_dir,\n",
        "    target_size=(150, 150),\n",
        "    batch_size=20,\n",
        "    class_mode='binary')\n",
        "\n",
        "# compile model\n",
        "\n",
        "model.compile(\n",
        "    loss='binary_crossentropy', \n",
        "    optimizer=optimizers.RMSprop(lr=2e-5), \n",
        "    metrics=['acc'])\n",
        "\n",
        "# train\n",
        "\n",
        "history = model.fit_generator(\n",
        "    train_generator,\n",
        "    steps_per_epoch=100,\n",
        "    epochs=30,\n",
        "    validation_data=validation_generator,\n",
        "    validation_steps=50\n",
        ")"
      ],
      "execution_count": 36,
      "outputs": [
        {
          "output_type": "stream",
          "text": [
            "Found 2000 images belonging to 2 classes.\n",
            "Found 1000 images belonging to 2 classes.\n",
            "Epoch 1/30\n",
            "100/100 [==============================] - 19s 188ms/step - loss: 0.2609 - acc: 0.8925 - val_loss: 0.1088 - val_acc: 0.9600\n",
            "Epoch 2/30\n",
            "100/100 [==============================] - 18s 181ms/step - loss: 0.1874 - acc: 0.9230 - val_loss: 0.0931 - val_acc: 0.9640\n",
            "Epoch 3/30\n",
            "100/100 [==============================] - 18s 179ms/step - loss: 0.1698 - acc: 0.9370 - val_loss: 0.0885 - val_acc: 0.9610\n",
            "Epoch 4/30\n",
            "100/100 [==============================] - 18s 180ms/step - loss: 0.1540 - acc: 0.9415 - val_loss: 0.0958 - val_acc: 0.9560\n",
            "Epoch 5/30\n",
            "100/100 [==============================] - 18s 180ms/step - loss: 0.1428 - acc: 0.9415 - val_loss: 0.0767 - val_acc: 0.9640\n",
            "Epoch 6/30\n",
            "100/100 [==============================] - 18s 179ms/step - loss: 0.1184 - acc: 0.9530 - val_loss: 0.0942 - val_acc: 0.9680\n",
            "Epoch 7/30\n",
            "100/100 [==============================] - 18s 181ms/step - loss: 0.1241 - acc: 0.9535 - val_loss: 0.0669 - val_acc: 0.9730\n",
            "Epoch 8/30\n",
            "100/100 [==============================] - 18s 180ms/step - loss: 0.1284 - acc: 0.9435 - val_loss: 0.0876 - val_acc: 0.9680\n",
            "Epoch 9/30\n",
            "100/100 [==============================] - 18s 180ms/step - loss: 0.1150 - acc: 0.9555 - val_loss: 0.0783 - val_acc: 0.9650\n",
            "Epoch 10/30\n",
            "100/100 [==============================] - 18s 180ms/step - loss: 0.1114 - acc: 0.9600 - val_loss: 0.0828 - val_acc: 0.9710\n",
            "Epoch 11/30\n",
            "100/100 [==============================] - 18s 180ms/step - loss: 0.1155 - acc: 0.9565 - val_loss: 0.0769 - val_acc: 0.9730\n",
            "Epoch 12/30\n",
            "100/100 [==============================] - 18s 180ms/step - loss: 0.0987 - acc: 0.9635 - val_loss: 0.0919 - val_acc: 0.9620\n",
            "Epoch 13/30\n",
            "100/100 [==============================] - 18s 179ms/step - loss: 0.1164 - acc: 0.9565 - val_loss: 0.0815 - val_acc: 0.9660\n",
            "Epoch 14/30\n",
            "100/100 [==============================] - 18s 179ms/step - loss: 0.0944 - acc: 0.9620 - val_loss: 0.1531 - val_acc: 0.9520\n",
            "Epoch 15/30\n",
            "100/100 [==============================] - 18s 179ms/step - loss: 0.1009 - acc: 0.9585 - val_loss: 0.0998 - val_acc: 0.9680\n",
            "Epoch 16/30\n",
            "100/100 [==============================] - 18s 180ms/step - loss: 0.0902 - acc: 0.9610 - val_loss: 0.0763 - val_acc: 0.9660\n",
            "Epoch 17/30\n",
            "100/100 [==============================] - 18s 179ms/step - loss: 0.0890 - acc: 0.9690 - val_loss: 0.0988 - val_acc: 0.9710\n",
            "Epoch 18/30\n",
            "100/100 [==============================] - 18s 181ms/step - loss: 0.0886 - acc: 0.9680 - val_loss: 0.1130 - val_acc: 0.9660\n",
            "Epoch 19/30\n",
            "100/100 [==============================] - 18s 181ms/step - loss: 0.0891 - acc: 0.9635 - val_loss: 0.1038 - val_acc: 0.9660\n",
            "Epoch 20/30\n",
            "100/100 [==============================] - 18s 181ms/step - loss: 0.0877 - acc: 0.9705 - val_loss: 0.0799 - val_acc: 0.9690\n",
            "Epoch 21/30\n",
            "100/100 [==============================] - 18s 180ms/step - loss: 0.0708 - acc: 0.9715 - val_loss: 0.0948 - val_acc: 0.9690\n",
            "Epoch 22/30\n",
            "100/100 [==============================] - 18s 178ms/step - loss: 0.0810 - acc: 0.9735 - val_loss: 0.0922 - val_acc: 0.9640\n",
            "Epoch 23/30\n",
            "100/100 [==============================] - 18s 178ms/step - loss: 0.0661 - acc: 0.9720 - val_loss: 0.1006 - val_acc: 0.9630\n",
            "Epoch 24/30\n",
            "100/100 [==============================] - 18s 180ms/step - loss: 0.0682 - acc: 0.9765 - val_loss: 0.0579 - val_acc: 0.9770\n",
            "Epoch 25/30\n",
            "100/100 [==============================] - 18s 180ms/step - loss: 0.0679 - acc: 0.9715 - val_loss: 0.0929 - val_acc: 0.9670\n",
            "Epoch 26/30\n",
            "100/100 [==============================] - 18s 180ms/step - loss: 0.0674 - acc: 0.9760 - val_loss: 0.1026 - val_acc: 0.9610\n",
            "Epoch 27/30\n",
            "100/100 [==============================] - 18s 178ms/step - loss: 0.0746 - acc: 0.9740 - val_loss: 0.0957 - val_acc: 0.9660\n",
            "Epoch 28/30\n",
            "100/100 [==============================] - 18s 180ms/step - loss: 0.0744 - acc: 0.9730 - val_loss: 0.0860 - val_acc: 0.9700\n",
            "Epoch 29/30\n",
            "100/100 [==============================] - 18s 180ms/step - loss: 0.0752 - acc: 0.9725 - val_loss: 0.1144 - val_acc: 0.9700\n",
            "Epoch 30/30\n",
            "100/100 [==============================] - 18s 179ms/step - loss: 0.0682 - acc: 0.9770 - val_loss: 0.0790 - val_acc: 0.9710\n"
          ],
          "name": "stdout"
        }
      ]
    },
    {
      "cell_type": "markdown",
      "metadata": {
        "id": "xqRc_vHKc92U",
        "colab_type": "text"
      },
      "source": [
        "## Display curves of loss and accuracy during training"
      ]
    },
    {
      "cell_type": "code",
      "metadata": {
        "id": "ybWwdzz9bwuQ",
        "colab_type": "code",
        "outputId": "83a18bc1-3142-4ae5-89d1-7d60ef454411",
        "colab": {
          "base_uri": "https://localhost:8080/",
          "height": 545
        }
      },
      "source": [
        "%matplotlib inline\n",
        "\n",
        "import matplotlib.pyplot as plt\n",
        "\n",
        "acc = history.history['acc']\n",
        "val_acc = history.history['val_acc']\n",
        "\n",
        "loss = history.history['loss']\n",
        "val_loss = history.history['val_loss']\n",
        "\n",
        "epochs = range(1, len(acc) + 1)\n",
        "\n",
        "# training and validation accuracy\n",
        "\n",
        "plt.plot(epochs, acc, 'bo', label='training acc')\n",
        "plt.plot(epochs, val_acc, 'b', label='validation acc')\n",
        "plt.title('training and validation accuracy')\n",
        "plt.legend()\n",
        "\n",
        "plt.figure()\n",
        "\n",
        "# training and validation loss\n",
        "\n",
        "plt.plot(epochs, loss, 'bo', label='training loss')\n",
        "plt.plot(epochs, val_loss, 'b', label='validation loss')\n",
        "plt.title('training and validation loss')\n",
        "plt.legend()\n",
        "\n",
        "plt.show()"
      ],
      "execution_count": 19,
      "outputs": [
        {
          "output_type": "display_data",
          "data": {
            "image/png": "[encoded data removed]",
            "text/plain": [
              "<Figure size 432x288 with 1 Axes>"
            ]
          },
          "metadata": {
            "tags": [],
            "needs_background": "light"
          }
        },
        {
          "output_type": "display_data",
          "data": {
            "image/png": "[encoded data removed]",
            "text/plain": [
              "<Figure size 432x288 with 1 Axes>"
            ]
          },
          "metadata": {
            "tags": [],
            "needs_background": "light"
          }
        }
      ]
    },
    {
      "cell_type": "markdown",
      "metadata": {
        "id": "lOWsxpey8lN0",
        "colab_type": "text"
      },
      "source": [
        "## Fine-tuning"
      ]
    },
    {
      "cell_type": "code",
      "metadata": {
        "id": "PwkVMx8N8qMw",
        "colab_type": "code",
        "colab": {}
      },
      "source": [
        "conv_base.trainable = True\n",
        "\n",
        "set_trainable = False\n",
        "for layer in conv_base.layers:\n",
        "  if layer.name == 'block14_sepconv2_bn':\n",
        "    set_trainable = True\n",
        "  if set_trainable:\n",
        "    layer.trainable = True\n",
        "  else:\n",
        "    layer.trainable = False"
      ],
      "execution_count": 0,
      "outputs": []
    },
    {
      "cell_type": "code",
      "metadata": {
        "id": "DyN-J7rs9cvo",
        "colab_type": "code",
        "outputId": "21a38bf4-b8bb-4709-a266-ddaf91ae8f51",
        "colab": {
          "base_uri": "https://localhost:8080/",
          "height": 1000
        }
      },
      "source": [
        "# compile model\n",
        "\n",
        "model.compile(\n",
        "    loss='binary_crossentropy',\n",
        "    #\n",
        "    # choose a smaller learning rate\n",
        "    #\n",
        "    optimizer=optimizers.RMSprop(lr=1e-5), \n",
        "    metrics=['acc'])\n",
        "\n",
        "# train\n",
        "\n",
        "history = model.fit_generator(\n",
        "    train_generator,\n",
        "    steps_per_epoch=100,\n",
        "    epochs=100,\n",
        "    validation_data=validation_generator,\n",
        "    validation_steps=50)"
      ],
      "execution_count": 21,
      "outputs": [
        {
          "output_type": "stream",
          "text": [
            "Epoch 1/100\n",
            "100/100 [==============================] - 18s 184ms/step - loss: 0.0920 - acc: 0.9655 - val_loss: 0.0788 - val_acc: 0.9690\n",
            "Epoch 2/100\n",
            "100/100 [==============================] - 18s 179ms/step - loss: 0.0869 - acc: 0.9640 - val_loss: 0.0673 - val_acc: 0.9770\n",
            "Epoch 3/100\n",
            "100/100 [==============================] - 18s 180ms/step - loss: 0.0680 - acc: 0.9790 - val_loss: 0.0619 - val_acc: 0.9790\n",
            "Epoch 4/100\n",
            "100/100 [==============================] - 18s 178ms/step - loss: 0.0855 - acc: 0.9690 - val_loss: 0.0703 - val_acc: 0.9780\n",
            "Epoch 5/100\n",
            "100/100 [==============================] - 18s 180ms/step - loss: 0.0730 - acc: 0.9720 - val_loss: 0.0697 - val_acc: 0.9710\n",
            "Epoch 6/100\n",
            "100/100 [==============================] - 18s 179ms/step - loss: 0.0753 - acc: 0.9735 - val_loss: 0.0473 - val_acc: 0.9830\n",
            "Epoch 7/100\n",
            "100/100 [==============================] - 18s 182ms/step - loss: 0.0878 - acc: 0.9660 - val_loss: 0.0782 - val_acc: 0.9740\n",
            "Epoch 8/100\n",
            "100/100 [==============================] - 18s 181ms/step - loss: 0.0650 - acc: 0.9785 - val_loss: 0.0885 - val_acc: 0.9660\n",
            "Epoch 9/100\n",
            "100/100 [==============================] - 18s 179ms/step - loss: 0.0743 - acc: 0.9705 - val_loss: 0.0582 - val_acc: 0.9780\n",
            "Epoch 10/100\n",
            "100/100 [==============================] - 18s 179ms/step - loss: 0.0799 - acc: 0.9710 - val_loss: 0.0815 - val_acc: 0.9750\n",
            "Epoch 11/100\n",
            "100/100 [==============================] - 18s 179ms/step - loss: 0.0735 - acc: 0.9715 - val_loss: 0.0690 - val_acc: 0.9810\n",
            "Epoch 12/100\n",
            "100/100 [==============================] - 18s 183ms/step - loss: 0.0839 - acc: 0.9670 - val_loss: 0.0686 - val_acc: 0.9780\n",
            "Epoch 13/100\n",
            "100/100 [==============================] - 18s 180ms/step - loss: 0.0805 - acc: 0.9700 - val_loss: 0.0572 - val_acc: 0.9770\n",
            "Epoch 14/100\n",
            "100/100 [==============================] - 18s 178ms/step - loss: 0.0687 - acc: 0.9730 - val_loss: 0.0792 - val_acc: 0.9690\n",
            "Epoch 15/100\n",
            "100/100 [==============================] - 18s 180ms/step - loss: 0.0676 - acc: 0.9775 - val_loss: 0.0583 - val_acc: 0.9790\n",
            "Epoch 16/100\n",
            "100/100 [==============================] - 18s 181ms/step - loss: 0.0701 - acc: 0.9705 - val_loss: 0.0792 - val_acc: 0.9660\n",
            "Epoch 17/100\n",
            "100/100 [==============================] - 18s 182ms/step - loss: 0.0606 - acc: 0.9795 - val_loss: 0.0680 - val_acc: 0.9760\n",
            "Epoch 18/100\n",
            "100/100 [==============================] - 18s 180ms/step - loss: 0.0862 - acc: 0.9685 - val_loss: 0.0707 - val_acc: 0.9710\n",
            "Epoch 19/100\n",
            "100/100 [==============================] - 18s 183ms/step - loss: 0.0601 - acc: 0.9795 - val_loss: 0.0705 - val_acc: 0.9760\n",
            "Epoch 20/100\n",
            "100/100 [==============================] - 18s 180ms/step - loss: 0.0675 - acc: 0.9760 - val_loss: 0.0732 - val_acc: 0.9680\n",
            "Epoch 21/100\n",
            "100/100 [==============================] - 18s 182ms/step - loss: 0.0576 - acc: 0.9765 - val_loss: 0.0728 - val_acc: 0.9680\n",
            "Epoch 22/100\n",
            "100/100 [==============================] - 18s 181ms/step - loss: 0.0610 - acc: 0.9755 - val_loss: 0.0680 - val_acc: 0.9760\n",
            "Epoch 23/100\n",
            "100/100 [==============================] - 18s 182ms/step - loss: 0.0696 - acc: 0.9760 - val_loss: 0.0765 - val_acc: 0.9690\n",
            "Epoch 24/100\n",
            "100/100 [==============================] - 18s 179ms/step - loss: 0.0651 - acc: 0.9745 - val_loss: 0.0614 - val_acc: 0.9780\n",
            "Epoch 25/100\n",
            "100/100 [==============================] - 18s 181ms/step - loss: 0.0661 - acc: 0.9725 - val_loss: 0.0868 - val_acc: 0.9660\n",
            "Epoch 26/100\n",
            "100/100 [==============================] - 18s 181ms/step - loss: 0.0624 - acc: 0.9765 - val_loss: 0.0615 - val_acc: 0.9770\n",
            "Epoch 27/100\n",
            "100/100 [==============================] - 18s 181ms/step - loss: 0.0822 - acc: 0.9715 - val_loss: 0.0866 - val_acc: 0.9640\n",
            "Epoch 28/100\n",
            "100/100 [==============================] - 18s 181ms/step - loss: 0.0676 - acc: 0.9755 - val_loss: 0.0665 - val_acc: 0.9740\n",
            "Epoch 29/100\n",
            "100/100 [==============================] - 19s 185ms/step - loss: 0.0480 - acc: 0.9830 - val_loss: 0.0670 - val_acc: 0.9770\n",
            "Epoch 30/100\n",
            "100/100 [==============================] - 18s 183ms/step - loss: 0.0648 - acc: 0.9750 - val_loss: 0.0758 - val_acc: 0.9690\n",
            "Epoch 31/100\n",
            "100/100 [==============================] - 18s 182ms/step - loss: 0.0513 - acc: 0.9785 - val_loss: 0.0748 - val_acc: 0.9740\n",
            "Epoch 32/100\n",
            "100/100 [==============================] - 18s 181ms/step - loss: 0.0685 - acc: 0.9775 - val_loss: 0.0655 - val_acc: 0.9650\n",
            "Epoch 33/100\n",
            "100/100 [==============================] - 18s 181ms/step - loss: 0.0544 - acc: 0.9800 - val_loss: 0.0825 - val_acc: 0.9660\n",
            "Epoch 34/100\n",
            "100/100 [==============================] - 18s 182ms/step - loss: 0.0626 - acc: 0.9780 - val_loss: 0.0825 - val_acc: 0.9730\n",
            "Epoch 35/100\n",
            "100/100 [==============================] - 18s 182ms/step - loss: 0.0589 - acc: 0.9785 - val_loss: 0.0684 - val_acc: 0.9690\n",
            "Epoch 36/100\n",
            "100/100 [==============================] - 18s 181ms/step - loss: 0.0602 - acc: 0.9750 - val_loss: 0.0718 - val_acc: 0.9760\n",
            "Epoch 37/100\n",
            "100/100 [==============================] - 18s 181ms/step - loss: 0.0558 - acc: 0.9825 - val_loss: 0.0624 - val_acc: 0.9720\n",
            "Epoch 38/100\n",
            "100/100 [==============================] - 18s 182ms/step - loss: 0.0686 - acc: 0.9760 - val_loss: 0.0918 - val_acc: 0.9700\n",
            "Epoch 39/100\n",
            "100/100 [==============================] - 18s 183ms/step - loss: 0.0601 - acc: 0.9800 - val_loss: 0.0668 - val_acc: 0.9780\n",
            "Epoch 40/100\n",
            "100/100 [==============================] - 18s 183ms/step - loss: 0.0505 - acc: 0.9810 - val_loss: 0.0719 - val_acc: 0.9750\n",
            "Epoch 41/100\n",
            "100/100 [==============================] - 18s 182ms/step - loss: 0.0497 - acc: 0.9805 - val_loss: 0.0777 - val_acc: 0.9710\n",
            "Epoch 42/100\n",
            "100/100 [==============================] - 18s 181ms/step - loss: 0.0643 - acc: 0.9750 - val_loss: 0.0751 - val_acc: 0.9740\n",
            "Epoch 43/100\n",
            "100/100 [==============================] - 18s 184ms/step - loss: 0.0613 - acc: 0.9820 - val_loss: 0.0692 - val_acc: 0.9730\n",
            "Epoch 44/100\n",
            "100/100 [==============================] - 18s 181ms/step - loss: 0.0570 - acc: 0.9795 - val_loss: 0.0634 - val_acc: 0.9800\n",
            "Epoch 45/100\n",
            "100/100 [==============================] - 18s 181ms/step - loss: 0.0541 - acc: 0.9820 - val_loss: 0.0898 - val_acc: 0.9620\n",
            "Epoch 46/100\n",
            "100/100 [==============================] - 18s 185ms/step - loss: 0.0524 - acc: 0.9805 - val_loss: 0.0771 - val_acc: 0.9750\n",
            "Epoch 47/100\n",
            "100/100 [==============================] - 18s 181ms/step - loss: 0.0481 - acc: 0.9845 - val_loss: 0.0839 - val_acc: 0.9740\n",
            "Epoch 48/100\n",
            "100/100 [==============================] - 18s 182ms/step - loss: 0.0454 - acc: 0.9820 - val_loss: 0.0802 - val_acc: 0.9660\n",
            "Epoch 49/100\n",
            "100/100 [==============================] - 18s 184ms/step - loss: 0.0456 - acc: 0.9840 - val_loss: 0.1084 - val_acc: 0.9640\n",
            "Epoch 50/100\n",
            "100/100 [==============================] - 18s 181ms/step - loss: 0.0521 - acc: 0.9800 - val_loss: 0.0756 - val_acc: 0.9670\n",
            "Epoch 51/100\n",
            "100/100 [==============================] - 18s 181ms/step - loss: 0.0532 - acc: 0.9785 - val_loss: 0.0868 - val_acc: 0.9700\n",
            "Epoch 52/100\n",
            "100/100 [==============================] - 18s 182ms/step - loss: 0.0452 - acc: 0.9855 - val_loss: 0.0705 - val_acc: 0.9770\n",
            "Epoch 53/100\n",
            "100/100 [==============================] - 18s 183ms/step - loss: 0.0533 - acc: 0.9840 - val_loss: 0.0839 - val_acc: 0.9760\n",
            "Epoch 54/100\n",
            "100/100 [==============================] - 18s 182ms/step - loss: 0.0492 - acc: 0.9840 - val_loss: 0.0846 - val_acc: 0.9680\n",
            "Epoch 55/100\n",
            "100/100 [==============================] - 18s 182ms/step - loss: 0.0408 - acc: 0.9875 - val_loss: 0.0798 - val_acc: 0.9660\n",
            "Epoch 56/100\n",
            "100/100 [==============================] - 18s 184ms/step - loss: 0.0421 - acc: 0.9840 - val_loss: 0.0926 - val_acc: 0.9660\n",
            "Epoch 57/100\n",
            "100/100 [==============================] - 18s 183ms/step - loss: 0.0488 - acc: 0.9830 - val_loss: 0.0608 - val_acc: 0.9750\n",
            "Epoch 58/100\n",
            "100/100 [==============================] - 18s 181ms/step - loss: 0.0534 - acc: 0.9810 - val_loss: 0.0702 - val_acc: 0.9780\n",
            "Epoch 59/100\n",
            "100/100 [==============================] - 18s 182ms/step - loss: 0.0516 - acc: 0.9775 - val_loss: 0.0782 - val_acc: 0.9740\n",
            "Epoch 60/100\n",
            "100/100 [==============================] - 18s 182ms/step - loss: 0.0479 - acc: 0.9855 - val_loss: 0.0688 - val_acc: 0.9750\n",
            "Epoch 61/100\n",
            "100/100 [==============================] - 18s 185ms/step - loss: 0.0403 - acc: 0.9850 - val_loss: 0.0654 - val_acc: 0.9760\n",
            "Epoch 62/100\n",
            "100/100 [==============================] - 18s 183ms/step - loss: 0.0500 - acc: 0.9820 - val_loss: 0.0842 - val_acc: 0.9720\n",
            "Epoch 63/100\n",
            "100/100 [==============================] - 19s 186ms/step - loss: 0.0471 - acc: 0.9830 - val_loss: 0.0631 - val_acc: 0.9780\n",
            "Epoch 64/100\n",
            "100/100 [==============================] - 18s 182ms/step - loss: 0.0541 - acc: 0.9795 - val_loss: 0.0743 - val_acc: 0.9700\n",
            "Epoch 65/100\n",
            "100/100 [==============================] - 18s 185ms/step - loss: 0.0542 - acc: 0.9815 - val_loss: 0.0720 - val_acc: 0.9730\n",
            "Epoch 66/100\n",
            "100/100 [==============================] - 18s 183ms/step - loss: 0.0352 - acc: 0.9880 - val_loss: 0.0761 - val_acc: 0.9720\n",
            "Epoch 67/100\n",
            "100/100 [==============================] - 18s 183ms/step - loss: 0.0485 - acc: 0.9865 - val_loss: 0.0799 - val_acc: 0.9710\n",
            "Epoch 68/100\n",
            "100/100 [==============================] - 18s 182ms/step - loss: 0.0467 - acc: 0.9800 - val_loss: 0.0698 - val_acc: 0.9790\n",
            "Epoch 69/100\n",
            "100/100 [==============================] - 18s 185ms/step - loss: 0.0638 - acc: 0.9775 - val_loss: 0.0731 - val_acc: 0.9740\n",
            "Epoch 70/100\n",
            "100/100 [==============================] - 18s 184ms/step - loss: 0.0478 - acc: 0.9805 - val_loss: 0.0841 - val_acc: 0.9690\n",
            "Epoch 71/100\n",
            "100/100 [==============================] - 18s 184ms/step - loss: 0.0405 - acc: 0.9835 - val_loss: 0.0744 - val_acc: 0.9700\n",
            "Epoch 72/100\n",
            "100/100 [==============================] - 18s 185ms/step - loss: 0.0352 - acc: 0.9890 - val_loss: 0.0681 - val_acc: 0.9770\n",
            "Epoch 73/100\n",
            "100/100 [==============================] - 18s 184ms/step - loss: 0.0444 - acc: 0.9840 - val_loss: 0.0804 - val_acc: 0.9720\n",
            "Epoch 74/100\n",
            "100/100 [==============================] - 19s 186ms/step - loss: 0.0454 - acc: 0.9845 - val_loss: 0.0746 - val_acc: 0.9690\n",
            "Epoch 75/100\n",
            "100/100 [==============================] - 18s 183ms/step - loss: 0.0534 - acc: 0.9810 - val_loss: 0.0801 - val_acc: 0.9690\n",
            "Epoch 76/100\n",
            "100/100 [==============================] - 18s 184ms/step - loss: 0.0438 - acc: 0.9855 - val_loss: 0.0637 - val_acc: 0.9710\n",
            "Epoch 77/100\n",
            "100/100 [==============================] - 18s 184ms/step - loss: 0.0417 - acc: 0.9865 - val_loss: 0.0882 - val_acc: 0.9650\n",
            "Epoch 78/100\n",
            "100/100 [==============================] - 18s 185ms/step - loss: 0.0443 - acc: 0.9870 - val_loss: 0.0597 - val_acc: 0.9750\n",
            "Epoch 79/100\n",
            "100/100 [==============================] - 19s 185ms/step - loss: 0.0411 - acc: 0.9870 - val_loss: 0.0715 - val_acc: 0.9720\n",
            "Epoch 80/100\n",
            "100/100 [==============================] - 19s 188ms/step - loss: 0.0396 - acc: 0.9830 - val_loss: 0.0961 - val_acc: 0.9710\n",
            "Epoch 81/100\n",
            "100/100 [==============================] - 19s 185ms/step - loss: 0.0492 - acc: 0.9810 - val_loss: 0.0495 - val_acc: 0.9820\n",
            "Epoch 82/100\n",
            "100/100 [==============================] - 19s 187ms/step - loss: 0.0427 - acc: 0.9870 - val_loss: 0.0783 - val_acc: 0.9690\n",
            "Epoch 83/100\n",
            "100/100 [==============================] - 19s 186ms/step - loss: 0.0481 - acc: 0.9825 - val_loss: 0.0617 - val_acc: 0.9730\n",
            "Epoch 84/100\n",
            "100/100 [==============================] - 18s 184ms/step - loss: 0.0405 - acc: 0.9875 - val_loss: 0.0824 - val_acc: 0.9720\n",
            "Epoch 85/100\n",
            "100/100 [==============================] - 18s 185ms/step - loss: 0.0352 - acc: 0.9865 - val_loss: 0.0738 - val_acc: 0.9690\n",
            "Epoch 86/100\n",
            "100/100 [==============================] - 18s 185ms/step - loss: 0.0328 - acc: 0.9870 - val_loss: 0.0594 - val_acc: 0.9750\n",
            "Epoch 87/100\n",
            "100/100 [==============================] - 19s 186ms/step - loss: 0.0401 - acc: 0.9875 - val_loss: 0.0786 - val_acc: 0.9740\n",
            "Epoch 88/100\n",
            "100/100 [==============================] - 18s 185ms/step - loss: 0.0433 - acc: 0.9835 - val_loss: 0.0768 - val_acc: 0.9730\n",
            "Epoch 89/100\n",
            "100/100 [==============================] - 19s 186ms/step - loss: 0.0373 - acc: 0.9860 - val_loss: 0.0708 - val_acc: 0.9740\n",
            "Epoch 90/100\n",
            "100/100 [==============================] - 18s 184ms/step - loss: 0.0331 - acc: 0.9870 - val_loss: 0.0713 - val_acc: 0.9710\n",
            "Epoch 91/100\n",
            "100/100 [==============================] - 18s 184ms/step - loss: 0.0340 - acc: 0.9880 - val_loss: 0.0630 - val_acc: 0.9730\n",
            "Epoch 92/100\n",
            "100/100 [==============================] - 19s 186ms/step - loss: 0.0409 - acc: 0.9875 - val_loss: 0.0849 - val_acc: 0.9620\n",
            "Epoch 93/100\n",
            "100/100 [==============================] - 19s 185ms/step - loss: 0.0417 - acc: 0.9860 - val_loss: 0.0702 - val_acc: 0.9740\n",
            "Epoch 94/100\n",
            "100/100 [==============================] - 18s 182ms/step - loss: 0.0431 - acc: 0.9855 - val_loss: 0.0662 - val_acc: 0.9690\n",
            "Epoch 95/100\n",
            "100/100 [==============================] - 18s 185ms/step - loss: 0.0344 - acc: 0.9880 - val_loss: 0.0886 - val_acc: 0.9650\n",
            "Epoch 96/100\n",
            "100/100 [==============================] - 19s 187ms/step - loss: 0.0472 - acc: 0.9855 - val_loss: 0.0600 - val_acc: 0.9740\n",
            "Epoch 97/100\n",
            "100/100 [==============================] - 18s 185ms/step - loss: 0.0395 - acc: 0.9840 - val_loss: 0.0612 - val_acc: 0.9740\n",
            "Epoch 98/100\n",
            "100/100 [==============================] - 18s 183ms/step - loss: 0.0451 - acc: 0.9855 - val_loss: 0.0855 - val_acc: 0.9610\n",
            "Epoch 99/100\n",
            "100/100 [==============================] - 18s 183ms/step - loss: 0.0455 - acc: 0.9860 - val_loss: 0.0675 - val_acc: 0.9600\n",
            "Epoch 100/100\n",
            "100/100 [==============================] - 19s 185ms/step - loss: 0.0425 - acc: 0.9875 - val_loss: 0.0821 - val_acc: 0.9660\n"
          ],
          "name": "stdout"
        }
      ]
    },
    {
      "cell_type": "markdown",
      "metadata": {
        "id": "eVBQgh5M-Rtz",
        "colab_type": "text"
      },
      "source": [
        "## Display learning curves during fine-tuning"
      ]
    },
    {
      "cell_type": "code",
      "metadata": {
        "id": "mbkIw7Ie-NP4",
        "colab_type": "code",
        "outputId": "f1bed8de-cb1f-4fc1-ded4-060bce03c99d",
        "colab": {
          "base_uri": "https://localhost:8080/",
          "height": 545
        }
      },
      "source": [
        "%matplotlib inline\n",
        "\n",
        "import matplotlib.pyplot as plt\n",
        "\n",
        "acc = history.history['acc']\n",
        "val_acc = history.history['val_acc']\n",
        "\n",
        "loss = history.history['loss']\n",
        "val_loss = history.history['val_loss']\n",
        "\n",
        "epochs = range(1, len(acc) + 1)\n",
        "\n",
        "# training and validation accuracy\n",
        "\n",
        "plt.plot(epochs, acc, 'bo', label='training acc')\n",
        "plt.plot(epochs, val_acc, 'b', label='validation acc')\n",
        "plt.title('training and validation accuracy')\n",
        "plt.legend()\n",
        "\n",
        "plt.figure()\n",
        "\n",
        "# training and validation loss\n",
        "\n",
        "plt.plot(epochs, loss, 'bo', label='training loss')\n",
        "plt.plot(epochs, val_loss, 'b', label='validation loss')\n",
        "plt.title('training and validation loss')\n",
        "plt.legend()\n",
        "\n",
        "plt.show()"
      ],
      "execution_count": 22,
      "outputs": [
        {
          "output_type": "display_data",
          "data": {
            "image/png": "[encoded data removed]",
            "text/plain": [
              "<Figure size 432x288 with 1 Axes>"
            ]
          },
          "metadata": {
            "tags": [],
            "needs_background": "light"
          }
        },
        {
          "output_type": "display_data",
          "data": {
            "image/png": "[encoded data removed]",
            "text/plain": [
              "<Figure size 432x288 with 1 Axes>"
            ]
          },
          "metadata": {
            "tags": [],
            "needs_background": "light"
          }
        }
      ]
    },
    {
      "cell_type": "markdown",
      "metadata": {
        "id": "obQi6N4ZShdi",
        "colab_type": "text"
      },
      "source": [
        "This looks like overfitting. The model is not a good model, as there is variance when using the model to predict the labels of the validation set."
      ]
    },
    {
      "cell_type": "markdown",
      "metadata": {
        "id": "he3Nw6TOJwjx",
        "colab_type": "text"
      },
      "source": [
        "## Print out validation loss and accuracy"
      ]
    },
    {
      "cell_type": "code",
      "metadata": {
        "id": "SVQtrk7uJdhl",
        "colab_type": "code",
        "outputId": "07ac6d55-0e03-4fa2-fb15-3f035e4840d4",
        "colab": {
          "base_uri": "https://localhost:8080/",
          "height": 68
        }
      },
      "source": [
        "val_loss, val_acc = model.evaluate_generator(validation_generator, steps=50)"
      ],
      "execution_count": 23,
      "outputs": [
        {
          "output_type": "stream",
          "text": [
            "WARNING:tensorflow:From <ipython-input-23-b8f112b0a6b9>:1: Model.evaluate_generator (from tensorflow.python.keras.engine.training) is deprecated and will be removed in a future version.\n",
            "Instructions for updating:\n",
            "Please use Model.evaluate, which supports generators.\n"
          ],
          "name": "stdout"
        }
      ]
    },
    {
      "cell_type": "code",
      "metadata": {
        "id": "HpdddLi1SUMe",
        "colab_type": "code",
        "outputId": "0bb3db9e-0157-4019-a064-447bb4a27b93",
        "colab": {
          "base_uri": "https://localhost:8080/",
          "height": 51
        }
      },
      "source": [
        "print(\"Validation loss:\", val_loss)\n",
        "print(\"Validation accuracy:\", val_acc)"
      ],
      "execution_count": 24,
      "outputs": [
        {
          "output_type": "stream",
          "text": [
            "Validation loss: 0.10215728729963303\n",
            "Validation accuracy: 0.9559999704360962\n"
          ],
          "name": "stdout"
        }
      ]
    },
    {
      "cell_type": "markdown",
      "metadata": {
        "id": "7Ww756WToby8",
        "colab_type": "text"
      },
      "source": [
        "## Save the model"
      ]
    },
    {
      "cell_type": "code",
      "metadata": {
        "id": "0lTUpUdwobKW",
        "colab_type": "code",
        "colab": {}
      },
      "source": [
        "model_fname = 'cats_and_dogs_small_4.h5' \n",
        "model.save(model_fname)"
      ],
      "execution_count": 0,
      "outputs": []
    },
    {
      "cell_type": "code",
      "metadata": {
        "id": "YhEoI8ZTok-X",
        "colab_type": "code",
        "colab": {}
      },
      "source": [
        "from google.colab import files\n",
        "\n",
        "with open(model_fname, 'r') as f:\n",
        "  files.download(model_fname)"
      ],
      "execution_count": 0,
      "outputs": []
    }
  ]
}