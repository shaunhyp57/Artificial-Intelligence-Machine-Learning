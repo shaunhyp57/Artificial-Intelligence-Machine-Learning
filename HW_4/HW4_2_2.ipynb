{
  "nbformat": 4,
  "nbformat_minor": 0,
  "metadata": {
    "colab": {
      "name": "HW4-2-2.ipynb",
      "provenance": [],
      "collapsed_sections": [],
      "include_colab_link": true
    },
    "kernelspec": {
      "name": "python3",
      "display_name": "Python 3"
    },
    "accelerator": "GPU"
  },
  "cells": [
    {
      "cell_type": "markdown",
      "metadata": {
        "id": "view-in-github",
        "colab_type": "text"
      },
      "source": [
        "<a href=\"https://colab.research.google.com/github/shaunhyp57/Artificial-Intelligence-Machine-Learning/blob/master/HW_4/HW4_2_2.ipynb\" target=\"_parent\"><img src=\"https://colab.research.google.com/assets/colab-badge.svg\" alt=\"Open In Colab\"/></a>"
      ]
    },
    {
      "cell_type": "markdown",
      "metadata": {
        "id": "KSrgMJ5vKFzQ",
        "colab_type": "text"
      },
      "source": [
        "# Fine-tuning Xception Convolution Base"
      ]
    },
    {
      "cell_type": "markdown",
      "metadata": {
        "id": "BqIG8QHMLNOn",
        "colab_type": "text"
      },
      "source": [
        "## Download the data"
      ]
    },
    {
      "cell_type": "markdown",
      "metadata": {
        "id": "t3I1jd7cKV6_",
        "colab_type": "text"
      },
      "source": [
        "Download the example data, a zip. of 2,000 JPG pictures of cats and dogs and extract it locally in ```/tmp```.\n",
        "\n"
      ]
    },
    {
      "cell_type": "code",
      "metadata": {
        "id": "JWjprHEXJ5Qi",
        "colab_type": "code",
        "outputId": "4906bfa2-2f76-45e7-d807-695d4f9382eb",
        "colab": {
          "base_uri": "https://localhost:8080/",
          "height": 204
        }
      },
      "source": [
        "!wget --no-check-certificate \\\n",
        "    https://storage.googleapis.com/mledu-datasets/cats_and_dogs_filtered.zip \\\n",
        "    -O /tmp/cats_and_dogs_filtered.zip"
      ],
      "execution_count": 90,
      "outputs": [
        {
          "output_type": "stream",
          "text": [
            "--2020-04-22 04:20:32--  https://storage.googleapis.com/mledu-datasets/cats_and_dogs_filtered.zip\n",
            "Resolving storage.googleapis.com (storage.googleapis.com)... 74.125.68.128, 2404:6800:4003:c04::80\n",
            "Connecting to storage.googleapis.com (storage.googleapis.com)|74.125.68.128|:443... connected.\n",
            "HTTP request sent, awaiting response... 200 OK\n",
            "Length: 68606236 (65M) [application/zip]\n",
            "Saving to: ‘/tmp/cats_and_dogs_filtered.zip’\n",
            "\n",
            "/tmp/cats_and_dogs_ 100%[===================>]  65.43M  86.8MB/s    in 0.8s    \n",
            "\n",
            "2020-04-22 04:20:33 (86.8 MB/s) - ‘/tmp/cats_and_dogs_filtered.zip’ saved [68606236/68606236]\n",
            "\n"
          ],
          "name": "stdout"
        }
      ]
    },
    {
      "cell_type": "code",
      "metadata": {
        "id": "WvoHtdA-K6Rw",
        "colab_type": "code",
        "colab": {}
      },
      "source": [
        "import os\n",
        "import zipfile\n",
        "\n",
        "local_zip = '/tmp/cats_and_dogs_filtered.zip'\n",
        "zip_ref = zipfile.ZipFile(local_zip, 'r')\n",
        "zip_ref.extractall('/tmp')\n",
        "zip_ref.close()"
      ],
      "execution_count": 0,
      "outputs": []
    },
    {
      "cell_type": "markdown",
      "metadata": {
        "id": "shZiOBnJMyy_",
        "colab_type": "text"
      },
      "source": [
        "Note that the data provided by Google does not have a test set."
      ]
    },
    {
      "cell_type": "code",
      "metadata": {
        "id": "dL8ikM89LlsH",
        "colab_type": "code",
        "colab": {}
      },
      "source": [
        "base_dir = '/tmp/cats_and_dogs_filtered'\n",
        "train_dir = os.path.join(base_dir, 'train')\n",
        "validation_dir = os.path.join(base_dir, 'validation')\n",
        "\n",
        "# Directory with our training cat pictures\n",
        "train_cats_dir = os.path.join(train_dir, 'cats')\n",
        "\n",
        "# Directory with our training dog pictures\n",
        "train_dogs_dir = os.path.join(train_dir, 'dogs')\n",
        "\n",
        "# Directory with our validation cat pictures\n",
        "validation_cats_dir = os.path.join(validation_dir, 'cats')\n",
        "\n",
        "# Directory with our validation dog pictures\n",
        "validation_dogs_dir = os.path.join(validation_dir, 'dogs')"
      ],
      "execution_count": 0,
      "outputs": []
    },
    {
      "cell_type": "markdown",
      "metadata": {
        "id": "inyP8bcdXnn-",
        "colab_type": "text"
      },
      "source": [
        "## Build network with Xception convolution base and custom densely connected layers"
      ]
    },
    {
      "cell_type": "markdown",
      "metadata": {
        "id": "kQ48W5T9rHWu",
        "colab_type": "text"
      },
      "source": [
        "### Load the convolutional base"
      ]
    },
    {
      "cell_type": "code",
      "metadata": {
        "id": "Y0FgtANCXm_H",
        "colab_type": "code",
        "colab": {}
      },
      "source": [
        "%tensorflow_version 2.x\n",
        "import tensorflow as tf\n",
        "from tensorflow import keras\n",
        "from tensorflow.keras.applications import Xception\n",
        "\n",
        "# Change to another one!!\n",
        "# conv_base = VGG16(\n",
        "#     weights='imagenet', \n",
        "#     include_top=False, \n",
        "#     input_shape=(150, 150, 3))\n",
        "\n",
        "conv_base = Xception(\n",
        "      weights = 'imagenet',\n",
        "      include_top = False,\n",
        "      input_shape = (150, 150, 3))"
      ],
      "execution_count": 0,
      "outputs": []
    },
    {
      "cell_type": "code",
      "metadata": {
        "id": "lSA64ZHlYjPM",
        "colab_type": "code",
        "outputId": "4bdc5b46-9e21-40c7-c6ee-faf5204ec0ca",
        "colab": {
          "base_uri": "https://localhost:8080/",
          "height": 1000
        }
      },
      "source": [
        "conv_base.summary()"
      ],
      "execution_count": 94,
      "outputs": [
        {
          "output_type": "stream",
          "text": [
            "Model: \"xception\"\n",
            "__________________________________________________________________________________________________\n",
            "Layer (type)                    Output Shape         Param #     Connected to                     \n",
            "==================================================================================================\n",
            "input_6 (InputLayer)            [(None, 150, 150, 3) 0                                            \n",
            "__________________________________________________________________________________________________\n",
            "block1_conv1 (Conv2D)           (None, 74, 74, 32)   864         input_6[0][0]                    \n",
            "__________________________________________________________________________________________________\n",
            "block1_conv1_bn (BatchNormaliza (None, 74, 74, 32)   128         block1_conv1[0][0]               \n",
            "__________________________________________________________________________________________________\n",
            "block1_conv1_act (Activation)   (None, 74, 74, 32)   0           block1_conv1_bn[0][0]            \n",
            "__________________________________________________________________________________________________\n",
            "block1_conv2 (Conv2D)           (None, 72, 72, 64)   18432       block1_conv1_act[0][0]           \n",
            "__________________________________________________________________________________________________\n",
            "block1_conv2_bn (BatchNormaliza (None, 72, 72, 64)   256         block1_conv2[0][0]               \n",
            "__________________________________________________________________________________________________\n",
            "block1_conv2_act (Activation)   (None, 72, 72, 64)   0           block1_conv2_bn[0][0]            \n",
            "__________________________________________________________________________________________________\n",
            "block2_sepconv1 (SeparableConv2 (None, 72, 72, 128)  8768        block1_conv2_act[0][0]           \n",
            "__________________________________________________________________________________________________\n",
            "block2_sepconv1_bn (BatchNormal (None, 72, 72, 128)  512         block2_sepconv1[0][0]            \n",
            "__________________________________________________________________________________________________\n",
            "block2_sepconv2_act (Activation (None, 72, 72, 128)  0           block2_sepconv1_bn[0][0]         \n",
            "__________________________________________________________________________________________________\n",
            "block2_sepconv2 (SeparableConv2 (None, 72, 72, 128)  17536       block2_sepconv2_act[0][0]        \n",
            "__________________________________________________________________________________________________\n",
            "block2_sepconv2_bn (BatchNormal (None, 72, 72, 128)  512         block2_sepconv2[0][0]            \n",
            "__________________________________________________________________________________________________\n",
            "conv2d_16 (Conv2D)              (None, 36, 36, 128)  8192        block1_conv2_act[0][0]           \n",
            "__________________________________________________________________________________________________\n",
            "block2_pool (MaxPooling2D)      (None, 36, 36, 128)  0           block2_sepconv2_bn[0][0]         \n",
            "__________________________________________________________________________________________________\n",
            "batch_normalization_16 (BatchNo (None, 36, 36, 128)  512         conv2d_16[0][0]                  \n",
            "__________________________________________________________________________________________________\n",
            "add_48 (Add)                    (None, 36, 36, 128)  0           block2_pool[0][0]                \n",
            "                                                                 batch_normalization_16[0][0]     \n",
            "__________________________________________________________________________________________________\n",
            "block3_sepconv1_act (Activation (None, 36, 36, 128)  0           add_48[0][0]                     \n",
            "__________________________________________________________________________________________________\n",
            "block3_sepconv1 (SeparableConv2 (None, 36, 36, 256)  33920       block3_sepconv1_act[0][0]        \n",
            "__________________________________________________________________________________________________\n",
            "block3_sepconv1_bn (BatchNormal (None, 36, 36, 256)  1024        block3_sepconv1[0][0]            \n",
            "__________________________________________________________________________________________________\n",
            "block3_sepconv2_act (Activation (None, 36, 36, 256)  0           block3_sepconv1_bn[0][0]         \n",
            "__________________________________________________________________________________________________\n",
            "block3_sepconv2 (SeparableConv2 (None, 36, 36, 256)  67840       block3_sepconv2_act[0][0]        \n",
            "__________________________________________________________________________________________________\n",
            "block3_sepconv2_bn (BatchNormal (None, 36, 36, 256)  1024        block3_sepconv2[0][0]            \n",
            "__________________________________________________________________________________________________\n",
            "conv2d_17 (Conv2D)              (None, 18, 18, 256)  32768       add_48[0][0]                     \n",
            "__________________________________________________________________________________________________\n",
            "block3_pool (MaxPooling2D)      (None, 18, 18, 256)  0           block3_sepconv2_bn[0][0]         \n",
            "__________________________________________________________________________________________________\n",
            "batch_normalization_17 (BatchNo (None, 18, 18, 256)  1024        conv2d_17[0][0]                  \n",
            "__________________________________________________________________________________________________\n",
            "add_49 (Add)                    (None, 18, 18, 256)  0           block3_pool[0][0]                \n",
            "                                                                 batch_normalization_17[0][0]     \n",
            "__________________________________________________________________________________________________\n",
            "block4_sepconv1_act (Activation (None, 18, 18, 256)  0           add_49[0][0]                     \n",
            "__________________________________________________________________________________________________\n",
            "block4_sepconv1 (SeparableConv2 (None, 18, 18, 728)  188672      block4_sepconv1_act[0][0]        \n",
            "__________________________________________________________________________________________________\n",
            "block4_sepconv1_bn (BatchNormal (None, 18, 18, 728)  2912        block4_sepconv1[0][0]            \n",
            "__________________________________________________________________________________________________\n",
            "block4_sepconv2_act (Activation (None, 18, 18, 728)  0           block4_sepconv1_bn[0][0]         \n",
            "__________________________________________________________________________________________________\n",
            "block4_sepconv2 (SeparableConv2 (None, 18, 18, 728)  536536      block4_sepconv2_act[0][0]        \n",
            "__________________________________________________________________________________________________\n",
            "block4_sepconv2_bn (BatchNormal (None, 18, 18, 728)  2912        block4_sepconv2[0][0]            \n",
            "__________________________________________________________________________________________________\n",
            "conv2d_18 (Conv2D)              (None, 9, 9, 728)    186368      add_49[0][0]                     \n",
            "__________________________________________________________________________________________________\n",
            "block4_pool (MaxPooling2D)      (None, 9, 9, 728)    0           block4_sepconv2_bn[0][0]         \n",
            "__________________________________________________________________________________________________\n",
            "batch_normalization_18 (BatchNo (None, 9, 9, 728)    2912        conv2d_18[0][0]                  \n",
            "__________________________________________________________________________________________________\n",
            "add_50 (Add)                    (None, 9, 9, 728)    0           block4_pool[0][0]                \n",
            "                                                                 batch_normalization_18[0][0]     \n",
            "__________________________________________________________________________________________________\n",
            "block5_sepconv1_act (Activation (None, 9, 9, 728)    0           add_50[0][0]                     \n",
            "__________________________________________________________________________________________________\n",
            "block5_sepconv1 (SeparableConv2 (None, 9, 9, 728)    536536      block5_sepconv1_act[0][0]        \n",
            "__________________________________________________________________________________________________\n",
            "block5_sepconv1_bn (BatchNormal (None, 9, 9, 728)    2912        block5_sepconv1[0][0]            \n",
            "__________________________________________________________________________________________________\n",
            "block5_sepconv2_act (Activation (None, 9, 9, 728)    0           block5_sepconv1_bn[0][0]         \n",
            "__________________________________________________________________________________________________\n",
            "block5_sepconv2 (SeparableConv2 (None, 9, 9, 728)    536536      block5_sepconv2_act[0][0]        \n",
            "__________________________________________________________________________________________________\n",
            "block5_sepconv2_bn (BatchNormal (None, 9, 9, 728)    2912        block5_sepconv2[0][0]            \n",
            "__________________________________________________________________________________________________\n",
            "block5_sepconv3_act (Activation (None, 9, 9, 728)    0           block5_sepconv2_bn[0][0]         \n",
            "__________________________________________________________________________________________________\n",
            "block5_sepconv3 (SeparableConv2 (None, 9, 9, 728)    536536      block5_sepconv3_act[0][0]        \n",
            "__________________________________________________________________________________________________\n",
            "block5_sepconv3_bn (BatchNormal (None, 9, 9, 728)    2912        block5_sepconv3[0][0]            \n",
            "__________________________________________________________________________________________________\n",
            "add_51 (Add)                    (None, 9, 9, 728)    0           block5_sepconv3_bn[0][0]         \n",
            "                                                                 add_50[0][0]                     \n",
            "__________________________________________________________________________________________________\n",
            "block6_sepconv1_act (Activation (None, 9, 9, 728)    0           add_51[0][0]                     \n",
            "__________________________________________________________________________________________________\n",
            "block6_sepconv1 (SeparableConv2 (None, 9, 9, 728)    536536      block6_sepconv1_act[0][0]        \n",
            "__________________________________________________________________________________________________\n",
            "block6_sepconv1_bn (BatchNormal (None, 9, 9, 728)    2912        block6_sepconv1[0][0]            \n",
            "__________________________________________________________________________________________________\n",
            "block6_sepconv2_act (Activation (None, 9, 9, 728)    0           block6_sepconv1_bn[0][0]         \n",
            "__________________________________________________________________________________________________\n",
            "block6_sepconv2 (SeparableConv2 (None, 9, 9, 728)    536536      block6_sepconv2_act[0][0]        \n",
            "__________________________________________________________________________________________________\n",
            "block6_sepconv2_bn (BatchNormal (None, 9, 9, 728)    2912        block6_sepconv2[0][0]            \n",
            "__________________________________________________________________________________________________\n",
            "block6_sepconv3_act (Activation (None, 9, 9, 728)    0           block6_sepconv2_bn[0][0]         \n",
            "__________________________________________________________________________________________________\n",
            "block6_sepconv3 (SeparableConv2 (None, 9, 9, 728)    536536      block6_sepconv3_act[0][0]        \n",
            "__________________________________________________________________________________________________\n",
            "block6_sepconv3_bn (BatchNormal (None, 9, 9, 728)    2912        block6_sepconv3[0][0]            \n",
            "__________________________________________________________________________________________________\n",
            "add_52 (Add)                    (None, 9, 9, 728)    0           block6_sepconv3_bn[0][0]         \n",
            "                                                                 add_51[0][0]                     \n",
            "__________________________________________________________________________________________________\n",
            "block7_sepconv1_act (Activation (None, 9, 9, 728)    0           add_52[0][0]                     \n",
            "__________________________________________________________________________________________________\n",
            "block7_sepconv1 (SeparableConv2 (None, 9, 9, 728)    536536      block7_sepconv1_act[0][0]        \n",
            "__________________________________________________________________________________________________\n",
            "block7_sepconv1_bn (BatchNormal (None, 9, 9, 728)    2912        block7_sepconv1[0][0]            \n",
            "__________________________________________________________________________________________________\n",
            "block7_sepconv2_act (Activation (None, 9, 9, 728)    0           block7_sepconv1_bn[0][0]         \n",
            "__________________________________________________________________________________________________\n",
            "block7_sepconv2 (SeparableConv2 (None, 9, 9, 728)    536536      block7_sepconv2_act[0][0]        \n",
            "__________________________________________________________________________________________________\n",
            "block7_sepconv2_bn (BatchNormal (None, 9, 9, 728)    2912        block7_sepconv2[0][0]            \n",
            "__________________________________________________________________________________________________\n",
            "block7_sepconv3_act (Activation (None, 9, 9, 728)    0           block7_sepconv2_bn[0][0]         \n",
            "__________________________________________________________________________________________________\n",
            "block7_sepconv3 (SeparableConv2 (None, 9, 9, 728)    536536      block7_sepconv3_act[0][0]        \n",
            "__________________________________________________________________________________________________\n",
            "block7_sepconv3_bn (BatchNormal (None, 9, 9, 728)    2912        block7_sepconv3[0][0]            \n",
            "__________________________________________________________________________________________________\n",
            "add_53 (Add)                    (None, 9, 9, 728)    0           block7_sepconv3_bn[0][0]         \n",
            "                                                                 add_52[0][0]                     \n",
            "__________________________________________________________________________________________________\n",
            "block8_sepconv1_act (Activation (None, 9, 9, 728)    0           add_53[0][0]                     \n",
            "__________________________________________________________________________________________________\n",
            "block8_sepconv1 (SeparableConv2 (None, 9, 9, 728)    536536      block8_sepconv1_act[0][0]        \n",
            "__________________________________________________________________________________________________\n",
            "block8_sepconv1_bn (BatchNormal (None, 9, 9, 728)    2912        block8_sepconv1[0][0]            \n",
            "__________________________________________________________________________________________________\n",
            "block8_sepconv2_act (Activation (None, 9, 9, 728)    0           block8_sepconv1_bn[0][0]         \n",
            "__________________________________________________________________________________________________\n",
            "block8_sepconv2 (SeparableConv2 (None, 9, 9, 728)    536536      block8_sepconv2_act[0][0]        \n",
            "__________________________________________________________________________________________________\n",
            "block8_sepconv2_bn (BatchNormal (None, 9, 9, 728)    2912        block8_sepconv2[0][0]            \n",
            "__________________________________________________________________________________________________\n",
            "block8_sepconv3_act (Activation (None, 9, 9, 728)    0           block8_sepconv2_bn[0][0]         \n",
            "__________________________________________________________________________________________________\n",
            "block8_sepconv3 (SeparableConv2 (None, 9, 9, 728)    536536      block8_sepconv3_act[0][0]        \n",
            "__________________________________________________________________________________________________\n",
            "block8_sepconv3_bn (BatchNormal (None, 9, 9, 728)    2912        block8_sepconv3[0][0]            \n",
            "__________________________________________________________________________________________________\n",
            "add_54 (Add)                    (None, 9, 9, 728)    0           block8_sepconv3_bn[0][0]         \n",
            "                                                                 add_53[0][0]                     \n",
            "__________________________________________________________________________________________________\n",
            "block9_sepconv1_act (Activation (None, 9, 9, 728)    0           add_54[0][0]                     \n",
            "__________________________________________________________________________________________________\n",
            "block9_sepconv1 (SeparableConv2 (None, 9, 9, 728)    536536      block9_sepconv1_act[0][0]        \n",
            "__________________________________________________________________________________________________\n",
            "block9_sepconv1_bn (BatchNormal (None, 9, 9, 728)    2912        block9_sepconv1[0][0]            \n",
            "__________________________________________________________________________________________________\n",
            "block9_sepconv2_act (Activation (None, 9, 9, 728)    0           block9_sepconv1_bn[0][0]         \n",
            "__________________________________________________________________________________________________\n",
            "block9_sepconv2 (SeparableConv2 (None, 9, 9, 728)    536536      block9_sepconv2_act[0][0]        \n",
            "__________________________________________________________________________________________________\n",
            "block9_sepconv2_bn (BatchNormal (None, 9, 9, 728)    2912        block9_sepconv2[0][0]            \n",
            "__________________________________________________________________________________________________\n",
            "block9_sepconv3_act (Activation (None, 9, 9, 728)    0           block9_sepconv2_bn[0][0]         \n",
            "__________________________________________________________________________________________________\n",
            "block9_sepconv3 (SeparableConv2 (None, 9, 9, 728)    536536      block9_sepconv3_act[0][0]        \n",
            "__________________________________________________________________________________________________\n",
            "block9_sepconv3_bn (BatchNormal (None, 9, 9, 728)    2912        block9_sepconv3[0][0]            \n",
            "__________________________________________________________________________________________________\n",
            "add_55 (Add)                    (None, 9, 9, 728)    0           block9_sepconv3_bn[0][0]         \n",
            "                                                                 add_54[0][0]                     \n",
            "__________________________________________________________________________________________________\n",
            "block10_sepconv1_act (Activatio (None, 9, 9, 728)    0           add_55[0][0]                     \n",
            "__________________________________________________________________________________________________\n",
            "block10_sepconv1 (SeparableConv (None, 9, 9, 728)    536536      block10_sepconv1_act[0][0]       \n",
            "__________________________________________________________________________________________________\n",
            "block10_sepconv1_bn (BatchNorma (None, 9, 9, 728)    2912        block10_sepconv1[0][0]           \n",
            "__________________________________________________________________________________________________\n",
            "block10_sepconv2_act (Activatio (None, 9, 9, 728)    0           block10_sepconv1_bn[0][0]        \n",
            "__________________________________________________________________________________________________\n",
            "block10_sepconv2 (SeparableConv (None, 9, 9, 728)    536536      block10_sepconv2_act[0][0]       \n",
            "__________________________________________________________________________________________________\n",
            "block10_sepconv2_bn (BatchNorma (None, 9, 9, 728)    2912        block10_sepconv2[0][0]           \n",
            "__________________________________________________________________________________________________\n",
            "block10_sepconv3_act (Activatio (None, 9, 9, 728)    0           block10_sepconv2_bn[0][0]        \n",
            "__________________________________________________________________________________________________\n",
            "block10_sepconv3 (SeparableConv (None, 9, 9, 728)    536536      block10_sepconv3_act[0][0]       \n",
            "__________________________________________________________________________________________________\n",
            "block10_sepconv3_bn (BatchNorma (None, 9, 9, 728)    2912        block10_sepconv3[0][0]           \n",
            "__________________________________________________________________________________________________\n",
            "add_56 (Add)                    (None, 9, 9, 728)    0           block10_sepconv3_bn[0][0]        \n",
            "                                                                 add_55[0][0]                     \n",
            "__________________________________________________________________________________________________\n",
            "block11_sepconv1_act (Activatio (None, 9, 9, 728)    0           add_56[0][0]                     \n",
            "__________________________________________________________________________________________________\n",
            "block11_sepconv1 (SeparableConv (None, 9, 9, 728)    536536      block11_sepconv1_act[0][0]       \n",
            "__________________________________________________________________________________________________\n",
            "block11_sepconv1_bn (BatchNorma (None, 9, 9, 728)    2912        block11_sepconv1[0][0]           \n",
            "__________________________________________________________________________________________________\n",
            "block11_sepconv2_act (Activatio (None, 9, 9, 728)    0           block11_sepconv1_bn[0][0]        \n",
            "__________________________________________________________________________________________________\n",
            "block11_sepconv2 (SeparableConv (None, 9, 9, 728)    536536      block11_sepconv2_act[0][0]       \n",
            "__________________________________________________________________________________________________\n",
            "block11_sepconv2_bn (BatchNorma (None, 9, 9, 728)    2912        block11_sepconv2[0][0]           \n",
            "__________________________________________________________________________________________________\n",
            "block11_sepconv3_act (Activatio (None, 9, 9, 728)    0           block11_sepconv2_bn[0][0]        \n",
            "__________________________________________________________________________________________________\n",
            "block11_sepconv3 (SeparableConv (None, 9, 9, 728)    536536      block11_sepconv3_act[0][0]       \n",
            "__________________________________________________________________________________________________\n",
            "block11_sepconv3_bn (BatchNorma (None, 9, 9, 728)    2912        block11_sepconv3[0][0]           \n",
            "__________________________________________________________________________________________________\n",
            "add_57 (Add)                    (None, 9, 9, 728)    0           block11_sepconv3_bn[0][0]        \n",
            "                                                                 add_56[0][0]                     \n",
            "__________________________________________________________________________________________________\n",
            "block12_sepconv1_act (Activatio (None, 9, 9, 728)    0           add_57[0][0]                     \n",
            "__________________________________________________________________________________________________\n",
            "block12_sepconv1 (SeparableConv (None, 9, 9, 728)    536536      block12_sepconv1_act[0][0]       \n",
            "__________________________________________________________________________________________________\n",
            "block12_sepconv1_bn (BatchNorma (None, 9, 9, 728)    2912        block12_sepconv1[0][0]           \n",
            "__________________________________________________________________________________________________\n",
            "block12_sepconv2_act (Activatio (None, 9, 9, 728)    0           block12_sepconv1_bn[0][0]        \n",
            "__________________________________________________________________________________________________\n",
            "block12_sepconv2 (SeparableConv (None, 9, 9, 728)    536536      block12_sepconv2_act[0][0]       \n",
            "__________________________________________________________________________________________________\n",
            "block12_sepconv2_bn (BatchNorma (None, 9, 9, 728)    2912        block12_sepconv2[0][0]           \n",
            "__________________________________________________________________________________________________\n",
            "block12_sepconv3_act (Activatio (None, 9, 9, 728)    0           block12_sepconv2_bn[0][0]        \n",
            "__________________________________________________________________________________________________\n",
            "block12_sepconv3 (SeparableConv (None, 9, 9, 728)    536536      block12_sepconv3_act[0][0]       \n",
            "__________________________________________________________________________________________________\n",
            "block12_sepconv3_bn (BatchNorma (None, 9, 9, 728)    2912        block12_sepconv3[0][0]           \n",
            "__________________________________________________________________________________________________\n",
            "add_58 (Add)                    (None, 9, 9, 728)    0           block12_sepconv3_bn[0][0]        \n",
            "                                                                 add_57[0][0]                     \n",
            "__________________________________________________________________________________________________\n",
            "block13_sepconv1_act (Activatio (None, 9, 9, 728)    0           add_58[0][0]                     \n",
            "__________________________________________________________________________________________________\n",
            "block13_sepconv1 (SeparableConv (None, 9, 9, 728)    536536      block13_sepconv1_act[0][0]       \n",
            "__________________________________________________________________________________________________\n",
            "block13_sepconv1_bn (BatchNorma (None, 9, 9, 728)    2912        block13_sepconv1[0][0]           \n",
            "__________________________________________________________________________________________________\n",
            "block13_sepconv2_act (Activatio (None, 9, 9, 728)    0           block13_sepconv1_bn[0][0]        \n",
            "__________________________________________________________________________________________________\n",
            "block13_sepconv2 (SeparableConv (None, 9, 9, 1024)   752024      block13_sepconv2_act[0][0]       \n",
            "__________________________________________________________________________________________________\n",
            "block13_sepconv2_bn (BatchNorma (None, 9, 9, 1024)   4096        block13_sepconv2[0][0]           \n",
            "__________________________________________________________________________________________________\n",
            "conv2d_19 (Conv2D)              (None, 5, 5, 1024)   745472      add_58[0][0]                     \n",
            "__________________________________________________________________________________________________\n",
            "block13_pool (MaxPooling2D)     (None, 5, 5, 1024)   0           block13_sepconv2_bn[0][0]        \n",
            "__________________________________________________________________________________________________\n",
            "batch_normalization_19 (BatchNo (None, 5, 5, 1024)   4096        conv2d_19[0][0]                  \n",
            "__________________________________________________________________________________________________\n",
            "add_59 (Add)                    (None, 5, 5, 1024)   0           block13_pool[0][0]               \n",
            "                                                                 batch_normalization_19[0][0]     \n",
            "__________________________________________________________________________________________________\n",
            "block14_sepconv1 (SeparableConv (None, 5, 5, 1536)   1582080     add_59[0][0]                     \n",
            "__________________________________________________________________________________________________\n",
            "block14_sepconv1_bn (BatchNorma (None, 5, 5, 1536)   6144        block14_sepconv1[0][0]           \n",
            "__________________________________________________________________________________________________\n",
            "block14_sepconv1_act (Activatio (None, 5, 5, 1536)   0           block14_sepconv1_bn[0][0]        \n",
            "__________________________________________________________________________________________________\n",
            "block14_sepconv2 (SeparableConv (None, 5, 5, 2048)   3159552     block14_sepconv1_act[0][0]       \n",
            "__________________________________________________________________________________________________\n",
            "block14_sepconv2_bn (BatchNorma (None, 5, 5, 2048)   8192        block14_sepconv2[0][0]           \n",
            "__________________________________________________________________________________________________\n",
            "block14_sepconv2_act (Activatio (None, 5, 5, 2048)   0           block14_sepconv2_bn[0][0]        \n",
            "==================================================================================================\n",
            "Total params: 20,861,480\n",
            "Trainable params: 20,806,952\n",
            "Non-trainable params: 54,528\n",
            "__________________________________________________________________________________________________\n"
          ],
          "name": "stdout"
        }
      ]
    },
    {
      "cell_type": "markdown",
      "metadata": {
        "id": "D6OBHOO9q1ou",
        "colab_type": "text"
      },
      "source": [
        "### Freeze the convolutional base"
      ]
    },
    {
      "cell_type": "code",
      "metadata": {
        "id": "UleRo4Dpq6Ld",
        "colab_type": "code",
        "colab": {}
      },
      "source": [
        "conv_base.trainable = False"
      ],
      "execution_count": 0,
      "outputs": []
    },
    {
      "cell_type": "markdown",
      "metadata": {
        "id": "Qfx6PqhPrb7Q",
        "colab_type": "text"
      },
      "source": [
        "### Concatenate the convolutional base and densely connected layers"
      ]
    },
    {
      "cell_type": "code",
      "metadata": {
        "id": "qUpmocDAO3xm",
        "colab_type": "code",
        "colab": {}
      },
      "source": [
        "from tensorflow.keras import layers\n",
        "from tensorflow.keras import models\n",
        "from tensorflow.keras import optimizers\n",
        "\n",
        "model = models.Sequential()\n",
        "model.add(conv_base)\n",
        "model.add(layers.Flatten())\n",
        "model.add(layers.Dense(1024, activation='relu'))\n",
        "#model.add(layers.Dropout(0.1))\n",
        "model.add(layers.Dense(1, activation='sigmoid'))"
      ],
      "execution_count": 0,
      "outputs": []
    },
    {
      "cell_type": "code",
      "metadata": {
        "id": "Fh6gZSeAjF7c",
        "colab_type": "code",
        "outputId": "47491a11-4b1e-4c82-abcd-bb6d8d20ea12",
        "colab": {
          "base_uri": "https://localhost:8080/",
          "height": 289
        }
      },
      "source": [
        "model.summary()"
      ],
      "execution_count": 98,
      "outputs": [
        {
          "output_type": "stream",
          "text": [
            "Model: \"sequential_7\"\n",
            "_________________________________________________________________\n",
            "Layer (type)                 Output Shape              Param #   \n",
            "=================================================================\n",
            "xception (Model)             (None, 5, 5, 2048)        20861480  \n",
            "_________________________________________________________________\n",
            "flatten_7 (Flatten)          (None, 51200)             0         \n",
            "_________________________________________________________________\n",
            "dense_19 (Dense)             (None, 1024)              52429824  \n",
            "_________________________________________________________________\n",
            "dense_20 (Dense)             (None, 1)                 1025      \n",
            "=================================================================\n",
            "Total params: 73,292,329\n",
            "Trainable params: 52,430,849\n",
            "Non-trainable params: 20,861,480\n",
            "_________________________________________________________________\n"
          ],
          "name": "stdout"
        }
      ]
    },
    {
      "cell_type": "markdown",
      "metadata": {
        "id": "eZjBiddhi5Qj",
        "colab_type": "text"
      },
      "source": [
        "## Train the model end to end with frozen convolutional base"
      ]
    },
    {
      "cell_type": "code",
      "metadata": {
        "id": "tfAQlC2Oi41L",
        "colab_type": "code",
        "outputId": "5007a997-0c2e-482b-e1da-d393acb92d47",
        "colab": {
          "base_uri": "https://localhost:8080/",
          "height": 1000
        }
      },
      "source": [
        "from tensorflow.keras.preprocessing.image import ImageDataGenerator\n",
        "from tensorflow.keras import optimizers\n",
        "\n",
        "# data augmentation\n",
        "\n",
        "train_datagen = ImageDataGenerator(\n",
        "    rescale=1./255, \n",
        "    rotation_range=40,\n",
        "    width_shift_range=0.2,\n",
        "    height_shift_range=0.2,\n",
        "    shear_range=0.2,\n",
        "    zoom_range=0.2,\n",
        "    horizontal_flip=True,\n",
        "    fill_mode='nearest'\n",
        ")\n",
        "\n",
        "train_generator = train_datagen.flow_from_directory(\n",
        "    train_dir,\n",
        "    target_size=(150, 150),\n",
        "    batch_size=20,\n",
        "    class_mode='binary')\n",
        "\n",
        "validation_datagen = ImageDataGenerator(rescale=1./255)\n",
        "\n",
        "validation_generator = validation_datagen.flow_from_directory(\n",
        "    validation_dir,\n",
        "    target_size=(150, 150),\n",
        "    batch_size=20,\n",
        "    class_mode='binary')\n",
        "\n",
        "# compile model\n",
        "\n",
        "model.compile(\n",
        "    loss='binary_crossentropy', \n",
        "    optimizer=optimizers.RMSprop(lr=2e-5), \n",
        "    metrics=['acc'])\n",
        "\n",
        "# train\n",
        "\n",
        "history = model.fit_generator(\n",
        "    train_generator,\n",
        "    steps_per_epoch=100,\n",
        "    epochs=30,\n",
        "    validation_data=validation_generator,\n",
        "    validation_steps=50\n",
        ")"
      ],
      "execution_count": 99,
      "outputs": [
        {
          "output_type": "stream",
          "text": [
            "Found 2000 images belonging to 2 classes.\n",
            "Found 1000 images belonging to 2 classes.\n",
            "Epoch 1/30\n",
            "100/100 [==============================] - 20s 202ms/step - loss: 0.3190 - acc: 0.8810 - val_loss: 0.0933 - val_acc: 0.9600\n",
            "Epoch 2/30\n",
            "100/100 [==============================] - 20s 200ms/step - loss: 0.1998 - acc: 0.9170 - val_loss: 0.1018 - val_acc: 0.9610\n",
            "Epoch 3/30\n",
            "100/100 [==============================] - 20s 197ms/step - loss: 0.1782 - acc: 0.9345 - val_loss: 0.0756 - val_acc: 0.9740\n",
            "Epoch 4/30\n",
            "100/100 [==============================] - 20s 197ms/step - loss: 0.1614 - acc: 0.9385 - val_loss: 0.1050 - val_acc: 0.9590\n",
            "Epoch 5/30\n",
            "100/100 [==============================] - 20s 197ms/step - loss: 0.1295 - acc: 0.9490 - val_loss: 0.0982 - val_acc: 0.9640\n",
            "Epoch 6/30\n",
            "100/100 [==============================] - 20s 196ms/step - loss: 0.1340 - acc: 0.9480 - val_loss: 0.0881 - val_acc: 0.9680\n",
            "Epoch 7/30\n",
            "100/100 [==============================] - 20s 198ms/step - loss: 0.1297 - acc: 0.9530 - val_loss: 0.0838 - val_acc: 0.9680\n",
            "Epoch 8/30\n",
            "100/100 [==============================] - 20s 199ms/step - loss: 0.1285 - acc: 0.9520 - val_loss: 0.0888 - val_acc: 0.9660\n",
            "Epoch 9/30\n",
            "100/100 [==============================] - 20s 196ms/step - loss: 0.1093 - acc: 0.9545 - val_loss: 0.0752 - val_acc: 0.9760\n",
            "Epoch 10/30\n",
            "100/100 [==============================] - 20s 196ms/step - loss: 0.1073 - acc: 0.9585 - val_loss: 0.0953 - val_acc: 0.9630\n",
            "Epoch 11/30\n",
            "100/100 [==============================] - 20s 196ms/step - loss: 0.1036 - acc: 0.9635 - val_loss: 0.1041 - val_acc: 0.9710\n",
            "Epoch 12/30\n",
            "100/100 [==============================] - 20s 198ms/step - loss: 0.0970 - acc: 0.9600 - val_loss: 0.2200 - val_acc: 0.9410\n",
            "Epoch 13/30\n",
            "100/100 [==============================] - 20s 195ms/step - loss: 0.0944 - acc: 0.9670 - val_loss: 0.1276 - val_acc: 0.9580\n",
            "Epoch 14/30\n",
            "100/100 [==============================] - 20s 196ms/step - loss: 0.0939 - acc: 0.9640 - val_loss: 0.0894 - val_acc: 0.9740\n",
            "Epoch 15/30\n",
            "100/100 [==============================] - 20s 197ms/step - loss: 0.1004 - acc: 0.9620 - val_loss: 0.1092 - val_acc: 0.9610\n",
            "Epoch 16/30\n",
            "100/100 [==============================] - 20s 198ms/step - loss: 0.0873 - acc: 0.9665 - val_loss: 0.1317 - val_acc: 0.9580\n",
            "Epoch 17/30\n",
            "100/100 [==============================] - 20s 197ms/step - loss: 0.0757 - acc: 0.9710 - val_loss: 0.0957 - val_acc: 0.9750\n",
            "Epoch 18/30\n",
            "100/100 [==============================] - 20s 198ms/step - loss: 0.0850 - acc: 0.9655 - val_loss: 0.1038 - val_acc: 0.9640\n",
            "Epoch 19/30\n",
            "100/100 [==============================] - 20s 197ms/step - loss: 0.0681 - acc: 0.9775 - val_loss: 0.0942 - val_acc: 0.9780\n",
            "Epoch 20/30\n",
            "100/100 [==============================] - 20s 198ms/step - loss: 0.0821 - acc: 0.9690 - val_loss: 0.0970 - val_acc: 0.9730\n",
            "Epoch 21/30\n",
            "100/100 [==============================] - 20s 201ms/step - loss: 0.0756 - acc: 0.9715 - val_loss: 0.1074 - val_acc: 0.9710\n",
            "Epoch 22/30\n",
            "100/100 [==============================] - 20s 198ms/step - loss: 0.0701 - acc: 0.9730 - val_loss: 0.1329 - val_acc: 0.9690\n",
            "Epoch 23/30\n",
            "100/100 [==============================] - 20s 199ms/step - loss: 0.0735 - acc: 0.9745 - val_loss: 0.0799 - val_acc: 0.9740\n",
            "Epoch 24/30\n",
            "100/100 [==============================] - 20s 200ms/step - loss: 0.0713 - acc: 0.9725 - val_loss: 0.0886 - val_acc: 0.9680\n",
            "Epoch 25/30\n",
            "100/100 [==============================] - 20s 199ms/step - loss: 0.0812 - acc: 0.9710 - val_loss: 0.1263 - val_acc: 0.9600\n",
            "Epoch 26/30\n",
            "100/100 [==============================] - 20s 198ms/step - loss: 0.0647 - acc: 0.9755 - val_loss: 0.0770 - val_acc: 0.9750\n",
            "Epoch 27/30\n",
            "100/100 [==============================] - 20s 200ms/step - loss: 0.0761 - acc: 0.9740 - val_loss: 0.1283 - val_acc: 0.9650\n",
            "Epoch 28/30\n",
            "100/100 [==============================] - 20s 200ms/step - loss: 0.0639 - acc: 0.9790 - val_loss: 0.0920 - val_acc: 0.9790\n",
            "Epoch 29/30\n",
            "100/100 [==============================] - 20s 199ms/step - loss: 0.0627 - acc: 0.9750 - val_loss: 0.1284 - val_acc: 0.9680\n",
            "Epoch 30/30\n",
            "100/100 [==============================] - 20s 204ms/step - loss: 0.0672 - acc: 0.9810 - val_loss: 0.0934 - val_acc: 0.9740\n"
          ],
          "name": "stdout"
        }
      ]
    },
    {
      "cell_type": "markdown",
      "metadata": {
        "id": "xqRc_vHKc92U",
        "colab_type": "text"
      },
      "source": [
        "## Display curves of loss and accuracy during training"
      ]
    },
    {
      "cell_type": "code",
      "metadata": {
        "id": "ybWwdzz9bwuQ",
        "colab_type": "code",
        "outputId": "2ec198fa-0bb2-4500-ec13-710afe0c834e",
        "colab": {
          "base_uri": "https://localhost:8080/",
          "height": 545
        }
      },
      "source": [
        "%matplotlib inline\n",
        "\n",
        "import matplotlib.pyplot as plt\n",
        "\n",
        "acc = history.history['acc']\n",
        "val_acc = history.history['val_acc']\n",
        "\n",
        "loss = history.history['loss']\n",
        "val_loss = history.history['val_loss']\n",
        "\n",
        "epochs = range(1, len(acc) + 1)\n",
        "\n",
        "# training and validation accuracy\n",
        "\n",
        "plt.plot(epochs, acc, 'bo', label='training acc')\n",
        "plt.plot(epochs, val_acc, 'b', label='validation acc')\n",
        "plt.title('training and validation accuracy')\n",
        "plt.legend()\n",
        "\n",
        "plt.figure()\n",
        "\n",
        "# training and validation loss\n",
        "\n",
        "plt.plot(epochs, loss, 'bo', label='training loss')\n",
        "plt.plot(epochs, val_loss, 'b', label='validation loss')\n",
        "plt.title('training and validation loss')\n",
        "plt.legend()\n",
        "\n",
        "plt.show()"
      ],
      "execution_count": 100,
      "outputs": [
        {
          "output_type": "display_data",
          "data": {
            "image/png": "[encoded data removed]",
            "text/plain": [
              "<Figure size 432x288 with 1 Axes>"
            ]
          },
          "metadata": {
            "tags": [],
            "needs_background": "light"
          }
        },
        {
          "output_type": "display_data",
          "data": {
            "image/png": "[encoded data removed]",
            "text/plain": [
              "<Figure size 432x288 with 1 Axes>"
            ]
          },
          "metadata": {
            "tags": [],
            "needs_background": "light"
          }
        }
      ]
    },
    {
      "cell_type": "markdown",
      "metadata": {
        "id": "lOWsxpey8lN0",
        "colab_type": "text"
      },
      "source": [
        "## Fine-tuning"
      ]
    },
    {
      "cell_type": "code",
      "metadata": {
        "id": "PwkVMx8N8qMw",
        "colab_type": "code",
        "colab": {}
      },
      "source": [
        "conv_base.trainable = True\n",
        "\n",
        "set_trainable = False\n",
        "for layer in conv_base.layers:\n",
        "  if layer.name == 'conv2d_7':\n",
        "    set_trainable = True\n",
        "  if set_trainable:\n",
        "    layer.trainable = True\n",
        "  else:\n",
        "    layer.trainable = False"
      ],
      "execution_count": 0,
      "outputs": []
    },
    {
      "cell_type": "code",
      "metadata": {
        "id": "DyN-J7rs9cvo",
        "colab_type": "code",
        "outputId": "88200da4-ae6b-4aca-999f-f34769986efa",
        "colab": {
          "base_uri": "https://localhost:8080/",
          "height": 1000
        }
      },
      "source": [
        "# compile model\n",
        "\n",
        "model.compile(\n",
        "    loss='binary_crossentropy',\n",
        "    #\n",
        "    # choose a smaller learning rate\n",
        "    #\n",
        "    optimizer=optimizers.RMSprop(lr=1e-5), \n",
        "    metrics=['acc'])\n",
        "\n",
        "# train\n",
        "\n",
        "history = model.fit_generator(\n",
        "    train_generator,\n",
        "    steps_per_epoch=100,\n",
        "    epochs=100,\n",
        "    validation_data=validation_generator,\n",
        "    validation_steps=50)"
      ],
      "execution_count": 102,
      "outputs": [
        {
          "output_type": "stream",
          "text": [
            "Epoch 1/100\n",
            "100/100 [==============================] - 21s 205ms/step - loss: 0.0547 - acc: 0.9815 - val_loss: 0.0960 - val_acc: 0.9720\n",
            "Epoch 2/100\n",
            "100/100 [==============================] - 20s 199ms/step - loss: 0.0516 - acc: 0.9825 - val_loss: 0.0585 - val_acc: 0.9860\n",
            "Epoch 3/100\n",
            "100/100 [==============================] - 20s 200ms/step - loss: 0.0447 - acc: 0.9855 - val_loss: 0.1086 - val_acc: 0.9670\n",
            "Epoch 4/100\n",
            "100/100 [==============================] - 20s 200ms/step - loss: 0.0507 - acc: 0.9780 - val_loss: 0.1105 - val_acc: 0.9680\n",
            "Epoch 5/100\n",
            "100/100 [==============================] - 20s 199ms/step - loss: 0.0383 - acc: 0.9850 - val_loss: 0.1062 - val_acc: 0.9720\n",
            "Epoch 6/100\n",
            "100/100 [==============================] - 20s 198ms/step - loss: 0.0471 - acc: 0.9820 - val_loss: 0.0749 - val_acc: 0.9770\n",
            "Epoch 7/100\n",
            "100/100 [==============================] - 20s 197ms/step - loss: 0.0550 - acc: 0.9810 - val_loss: 0.1366 - val_acc: 0.9670\n",
            "Epoch 8/100\n",
            "100/100 [==============================] - 20s 199ms/step - loss: 0.0453 - acc: 0.9820 - val_loss: 0.0800 - val_acc: 0.9780\n",
            "Epoch 9/100\n",
            "100/100 [==============================] - 20s 198ms/step - loss: 0.0373 - acc: 0.9845 - val_loss: 0.1155 - val_acc: 0.9700\n",
            "Epoch 10/100\n",
            "100/100 [==============================] - 20s 198ms/step - loss: 0.0326 - acc: 0.9885 - val_loss: 0.1309 - val_acc: 0.9650\n",
            "Epoch 11/100\n",
            "100/100 [==============================] - 20s 198ms/step - loss: 0.0437 - acc: 0.9855 - val_loss: 0.1280 - val_acc: 0.9710\n",
            "Epoch 12/100\n",
            "100/100 [==============================] - 20s 199ms/step - loss: 0.0440 - acc: 0.9855 - val_loss: 0.1128 - val_acc: 0.9710\n",
            "Epoch 13/100\n",
            "100/100 [==============================] - 20s 201ms/step - loss: 0.0377 - acc: 0.9860 - val_loss: 0.0817 - val_acc: 0.9770\n",
            "Epoch 14/100\n",
            "100/100 [==============================] - 20s 198ms/step - loss: 0.0464 - acc: 0.9850 - val_loss: 0.1012 - val_acc: 0.9730\n",
            "Epoch 15/100\n",
            "100/100 [==============================] - 20s 198ms/step - loss: 0.0323 - acc: 0.9915 - val_loss: 0.0969 - val_acc: 0.9720\n",
            "Epoch 16/100\n",
            "100/100 [==============================] - 20s 199ms/step - loss: 0.0462 - acc: 0.9840 - val_loss: 0.1340 - val_acc: 0.9590\n",
            "Epoch 17/100\n",
            "100/100 [==============================] - 20s 198ms/step - loss: 0.0510 - acc: 0.9835 - val_loss: 0.1284 - val_acc: 0.9630\n",
            "Epoch 18/100\n",
            "100/100 [==============================] - 20s 198ms/step - loss: 0.0335 - acc: 0.9875 - val_loss: 0.0983 - val_acc: 0.9730\n",
            "Epoch 19/100\n",
            "100/100 [==============================] - 20s 197ms/step - loss: 0.0514 - acc: 0.9835 - val_loss: 0.1089 - val_acc: 0.9710\n",
            "Epoch 20/100\n",
            "100/100 [==============================] - 20s 199ms/step - loss: 0.0387 - acc: 0.9855 - val_loss: 0.1032 - val_acc: 0.9730\n",
            "Epoch 21/100\n",
            "100/100 [==============================] - 20s 198ms/step - loss: 0.0277 - acc: 0.9895 - val_loss: 0.1137 - val_acc: 0.9650\n",
            "Epoch 22/100\n",
            "100/100 [==============================] - 20s 198ms/step - loss: 0.0327 - acc: 0.9920 - val_loss: 0.1146 - val_acc: 0.9710\n",
            "Epoch 23/100\n",
            "100/100 [==============================] - 20s 198ms/step - loss: 0.0323 - acc: 0.9890 - val_loss: 0.1313 - val_acc: 0.9680\n",
            "Epoch 24/100\n",
            "100/100 [==============================] - 20s 198ms/step - loss: 0.0437 - acc: 0.9840 - val_loss: 0.0970 - val_acc: 0.9710\n",
            "Epoch 25/100\n",
            "100/100 [==============================] - 20s 199ms/step - loss: 0.0444 - acc: 0.9860 - val_loss: 0.1095 - val_acc: 0.9710\n",
            "Epoch 26/100\n",
            "100/100 [==============================] - 20s 200ms/step - loss: 0.0390 - acc: 0.9850 - val_loss: 0.0985 - val_acc: 0.9730\n",
            "Epoch 27/100\n",
            "100/100 [==============================] - 20s 198ms/step - loss: 0.0317 - acc: 0.9875 - val_loss: 0.1180 - val_acc: 0.9700\n",
            "Epoch 28/100\n",
            "100/100 [==============================] - 20s 199ms/step - loss: 0.0385 - acc: 0.9870 - val_loss: 0.0982 - val_acc: 0.9700\n",
            "Epoch 29/100\n",
            "100/100 [==============================] - 20s 200ms/step - loss: 0.0496 - acc: 0.9810 - val_loss: 0.1068 - val_acc: 0.9710\n",
            "Epoch 30/100\n",
            "100/100 [==============================] - 20s 198ms/step - loss: 0.0368 - acc: 0.9900 - val_loss: 0.0792 - val_acc: 0.9760\n",
            "Epoch 31/100\n",
            "100/100 [==============================] - 20s 197ms/step - loss: 0.0308 - acc: 0.9905 - val_loss: 0.1071 - val_acc: 0.9690\n",
            "Epoch 32/100\n",
            "100/100 [==============================] - 20s 198ms/step - loss: 0.0424 - acc: 0.9870 - val_loss: 0.1184 - val_acc: 0.9710\n",
            "Epoch 33/100\n",
            "100/100 [==============================] - 20s 198ms/step - loss: 0.0277 - acc: 0.9895 - val_loss: 0.1159 - val_acc: 0.9680\n",
            "Epoch 34/100\n",
            "100/100 [==============================] - 20s 199ms/step - loss: 0.0264 - acc: 0.9915 - val_loss: 0.1281 - val_acc: 0.9690\n",
            "Epoch 35/100\n",
            "100/100 [==============================] - 20s 198ms/step - loss: 0.0246 - acc: 0.9905 - val_loss: 0.0786 - val_acc: 0.9760\n",
            "Epoch 36/100\n",
            "100/100 [==============================] - 20s 198ms/step - loss: 0.0256 - acc: 0.9900 - val_loss: 0.1243 - val_acc: 0.9700\n",
            "Epoch 37/100\n",
            "100/100 [==============================] - 20s 198ms/step - loss: 0.0286 - acc: 0.9915 - val_loss: 0.1169 - val_acc: 0.9720\n",
            "Epoch 38/100\n",
            "100/100 [==============================] - 20s 197ms/step - loss: 0.0384 - acc: 0.9855 - val_loss: 0.1107 - val_acc: 0.9690\n",
            "Epoch 39/100\n",
            "100/100 [==============================] - 20s 198ms/step - loss: 0.0237 - acc: 0.9905 - val_loss: 0.0998 - val_acc: 0.9770\n",
            "Epoch 40/100\n",
            "100/100 [==============================] - 20s 200ms/step - loss: 0.0295 - acc: 0.9885 - val_loss: 0.1206 - val_acc: 0.9670\n",
            "Epoch 41/100\n",
            "100/100 [==============================] - 20s 198ms/step - loss: 0.0272 - acc: 0.9915 - val_loss: 0.0848 - val_acc: 0.9780\n",
            "Epoch 42/100\n",
            "100/100 [==============================] - 20s 197ms/step - loss: 0.0245 - acc: 0.9915 - val_loss: 0.1145 - val_acc: 0.9730\n",
            "Epoch 43/100\n",
            "100/100 [==============================] - 20s 198ms/step - loss: 0.0378 - acc: 0.9870 - val_loss: 0.1206 - val_acc: 0.9680\n",
            "Epoch 44/100\n",
            "100/100 [==============================] - 20s 199ms/step - loss: 0.0338 - acc: 0.9905 - val_loss: 0.1032 - val_acc: 0.9690\n",
            "Epoch 45/100\n",
            "100/100 [==============================] - 20s 199ms/step - loss: 0.0391 - acc: 0.9830 - val_loss: 0.1184 - val_acc: 0.9720\n",
            "Epoch 46/100\n",
            "100/100 [==============================] - 20s 198ms/step - loss: 0.0382 - acc: 0.9875 - val_loss: 0.1111 - val_acc: 0.9730\n",
            "Epoch 47/100\n",
            "100/100 [==============================] - 20s 198ms/step - loss: 0.0224 - acc: 0.9930 - val_loss: 0.1813 - val_acc: 0.9580\n",
            "Epoch 48/100\n",
            "100/100 [==============================] - 20s 198ms/step - loss: 0.0281 - acc: 0.9920 - val_loss: 0.1087 - val_acc: 0.9700\n",
            "Epoch 49/100\n",
            "100/100 [==============================] - 20s 200ms/step - loss: 0.0356 - acc: 0.9860 - val_loss: 0.1411 - val_acc: 0.9650\n",
            "Epoch 50/100\n",
            "100/100 [==============================] - 20s 198ms/step - loss: 0.0342 - acc: 0.9900 - val_loss: 0.0958 - val_acc: 0.9750\n",
            "Epoch 51/100\n",
            "100/100 [==============================] - 20s 198ms/step - loss: 0.0355 - acc: 0.9885 - val_loss: 0.0908 - val_acc: 0.9770\n",
            "Epoch 52/100\n",
            "100/100 [==============================] - 20s 199ms/step - loss: 0.0186 - acc: 0.9935 - val_loss: 0.1467 - val_acc: 0.9660\n",
            "Epoch 53/100\n",
            "100/100 [==============================] - 20s 199ms/step - loss: 0.0186 - acc: 0.9920 - val_loss: 0.1202 - val_acc: 0.9650\n",
            "Epoch 54/100\n",
            "100/100 [==============================] - 20s 199ms/step - loss: 0.0273 - acc: 0.9905 - val_loss: 0.0739 - val_acc: 0.9780\n",
            "Epoch 55/100\n",
            "100/100 [==============================] - 20s 200ms/step - loss: 0.0196 - acc: 0.9955 - val_loss: 0.1417 - val_acc: 0.9670\n",
            "Epoch 56/100\n",
            "100/100 [==============================] - 20s 199ms/step - loss: 0.0387 - acc: 0.9870 - val_loss: 0.1196 - val_acc: 0.9720\n",
            "Epoch 57/100\n",
            "100/100 [==============================] - 20s 199ms/step - loss: 0.0206 - acc: 0.9920 - val_loss: 0.1174 - val_acc: 0.9690\n",
            "Epoch 58/100\n",
            "100/100 [==============================] - 20s 199ms/step - loss: 0.0264 - acc: 0.9935 - val_loss: 0.0953 - val_acc: 0.9730\n",
            "Epoch 59/100\n",
            "100/100 [==============================] - 20s 199ms/step - loss: 0.0302 - acc: 0.9905 - val_loss: 0.1087 - val_acc: 0.9750\n",
            "Epoch 60/100\n",
            "100/100 [==============================] - 20s 201ms/step - loss: 0.0236 - acc: 0.9925 - val_loss: 0.1204 - val_acc: 0.9710\n",
            "Epoch 61/100\n",
            "100/100 [==============================] - 20s 199ms/step - loss: 0.0254 - acc: 0.9910 - val_loss: 0.0910 - val_acc: 0.9770\n",
            "Epoch 62/100\n",
            "100/100 [==============================] - 20s 198ms/step - loss: 0.0224 - acc: 0.9915 - val_loss: 0.1385 - val_acc: 0.9650\n",
            "Epoch 63/100\n",
            "100/100 [==============================] - 20s 200ms/step - loss: 0.0222 - acc: 0.9915 - val_loss: 0.1016 - val_acc: 0.9760\n",
            "Epoch 64/100\n",
            "100/100 [==============================] - 20s 200ms/step - loss: 0.0261 - acc: 0.9910 - val_loss: 0.1461 - val_acc: 0.9660\n",
            "Epoch 65/100\n",
            "100/100 [==============================] - 20s 199ms/step - loss: 0.0277 - acc: 0.9890 - val_loss: 0.0838 - val_acc: 0.9770\n",
            "Epoch 66/100\n",
            "100/100 [==============================] - 20s 198ms/step - loss: 0.0274 - acc: 0.9915 - val_loss: 0.1483 - val_acc: 0.9670\n",
            "Epoch 67/100\n",
            "100/100 [==============================] - 20s 199ms/step - loss: 0.0204 - acc: 0.9925 - val_loss: 0.1327 - val_acc: 0.9650\n",
            "Epoch 68/100\n",
            "100/100 [==============================] - 20s 198ms/step - loss: 0.0245 - acc: 0.9915 - val_loss: 0.1035 - val_acc: 0.9710\n",
            "Epoch 69/100\n",
            "100/100 [==============================] - 20s 201ms/step - loss: 0.0230 - acc: 0.9910 - val_loss: 0.1145 - val_acc: 0.9750\n",
            "Epoch 70/100\n",
            "100/100 [==============================] - 20s 199ms/step - loss: 0.0291 - acc: 0.9890 - val_loss: 0.1075 - val_acc: 0.9720\n",
            "Epoch 71/100\n",
            "100/100 [==============================] - 20s 198ms/step - loss: 0.0242 - acc: 0.9905 - val_loss: 0.1158 - val_acc: 0.9710\n",
            "Epoch 72/100\n",
            "100/100 [==============================] - 20s 198ms/step - loss: 0.0249 - acc: 0.9915 - val_loss: 0.1153 - val_acc: 0.9720\n",
            "Epoch 73/100\n",
            "100/100 [==============================] - 20s 200ms/step - loss: 0.0270 - acc: 0.9895 - val_loss: 0.1128 - val_acc: 0.9730\n",
            "Epoch 74/100\n",
            "100/100 [==============================] - 20s 198ms/step - loss: 0.0337 - acc: 0.9925 - val_loss: 0.1108 - val_acc: 0.9740\n",
            "Epoch 75/100\n",
            "100/100 [==============================] - 20s 200ms/step - loss: 0.0163 - acc: 0.9940 - val_loss: 0.0983 - val_acc: 0.9780\n",
            "Epoch 76/100\n",
            "100/100 [==============================] - 20s 200ms/step - loss: 0.0156 - acc: 0.9955 - val_loss: 0.1163 - val_acc: 0.9740\n",
            "Epoch 77/100\n",
            "100/100 [==============================] - 20s 200ms/step - loss: 0.0291 - acc: 0.9905 - val_loss: 0.0962 - val_acc: 0.9780\n",
            "Epoch 78/100\n",
            "100/100 [==============================] - 20s 199ms/step - loss: 0.0228 - acc: 0.9915 - val_loss: 0.1015 - val_acc: 0.9750\n",
            "Epoch 79/100\n",
            "100/100 [==============================] - 20s 199ms/step - loss: 0.0232 - acc: 0.9905 - val_loss: 0.1090 - val_acc: 0.9720\n",
            "Epoch 80/100\n",
            "100/100 [==============================] - 20s 201ms/step - loss: 0.0198 - acc: 0.9940 - val_loss: 0.1312 - val_acc: 0.9690\n",
            "Epoch 81/100\n",
            "100/100 [==============================] - 20s 199ms/step - loss: 0.0247 - acc: 0.9910 - val_loss: 0.0874 - val_acc: 0.9780\n",
            "Epoch 82/100\n",
            "100/100 [==============================] - 20s 199ms/step - loss: 0.0271 - acc: 0.9895 - val_loss: 0.1030 - val_acc: 0.9740\n",
            "Epoch 83/100\n",
            "100/100 [==============================] - 20s 198ms/step - loss: 0.0290 - acc: 0.9915 - val_loss: 0.1063 - val_acc: 0.9740\n",
            "Epoch 84/100\n",
            "100/100 [==============================] - 20s 198ms/step - loss: 0.0257 - acc: 0.9915 - val_loss: 0.1042 - val_acc: 0.9770\n",
            "Epoch 85/100\n",
            "100/100 [==============================] - 20s 200ms/step - loss: 0.0240 - acc: 0.9915 - val_loss: 0.0833 - val_acc: 0.9770\n",
            "Epoch 86/100\n",
            "100/100 [==============================] - 20s 198ms/step - loss: 0.0245 - acc: 0.9905 - val_loss: 0.1372 - val_acc: 0.9660\n",
            "Epoch 87/100\n",
            "100/100 [==============================] - 20s 198ms/step - loss: 0.0270 - acc: 0.9925 - val_loss: 0.1226 - val_acc: 0.9780\n",
            "Epoch 88/100\n",
            "100/100 [==============================] - 20s 198ms/step - loss: 0.0143 - acc: 0.9965 - val_loss: 0.1360 - val_acc: 0.9650\n",
            "Epoch 89/100\n",
            "100/100 [==============================] - 20s 199ms/step - loss: 0.0321 - acc: 0.9895 - val_loss: 0.0955 - val_acc: 0.9740\n",
            "Epoch 90/100\n",
            "100/100 [==============================] - 20s 198ms/step - loss: 0.0249 - acc: 0.9930 - val_loss: 0.1109 - val_acc: 0.9730\n",
            "Epoch 91/100\n",
            "100/100 [==============================] - 20s 200ms/step - loss: 0.0195 - acc: 0.9940 - val_loss: 0.1228 - val_acc: 0.9710\n",
            "Epoch 92/100\n",
            "100/100 [==============================] - 20s 198ms/step - loss: 0.0147 - acc: 0.9950 - val_loss: 0.1336 - val_acc: 0.9710\n",
            "Epoch 93/100\n",
            "100/100 [==============================] - 20s 199ms/step - loss: 0.0228 - acc: 0.9905 - val_loss: 0.1045 - val_acc: 0.9730\n",
            "Epoch 94/100\n",
            "100/100 [==============================] - 20s 199ms/step - loss: 0.0151 - acc: 0.9955 - val_loss: 0.1187 - val_acc: 0.9730\n",
            "Epoch 95/100\n",
            "100/100 [==============================] - 20s 200ms/step - loss: 0.0298 - acc: 0.9910 - val_loss: 0.1240 - val_acc: 0.9680\n",
            "Epoch 96/100\n",
            "100/100 [==============================] - 20s 199ms/step - loss: 0.0149 - acc: 0.9945 - val_loss: 0.1061 - val_acc: 0.9710\n",
            "Epoch 97/100\n",
            "100/100 [==============================] - 20s 200ms/step - loss: 0.0305 - acc: 0.9905 - val_loss: 0.1035 - val_acc: 0.9790\n",
            "Epoch 98/100\n",
            "100/100 [==============================] - 20s 197ms/step - loss: 0.0250 - acc: 0.9935 - val_loss: 0.1032 - val_acc: 0.9740\n",
            "Epoch 99/100\n",
            "100/100 [==============================] - 20s 198ms/step - loss: 0.0345 - acc: 0.9895 - val_loss: 0.0994 - val_acc: 0.9730\n",
            "Epoch 100/100\n",
            "100/100 [==============================] - 20s 198ms/step - loss: 0.0259 - acc: 0.9925 - val_loss: 0.1184 - val_acc: 0.9680\n"
          ],
          "name": "stdout"
        }
      ]
    },
    {
      "cell_type": "markdown",
      "metadata": {
        "id": "eVBQgh5M-Rtz",
        "colab_type": "text"
      },
      "source": [
        "## Display learning curves during fine-tuning"
      ]
    },
    {
      "cell_type": "code",
      "metadata": {
        "id": "mbkIw7Ie-NP4",
        "colab_type": "code",
        "outputId": "2eb01de5-ab65-49ba-c991-2db82412110b",
        "colab": {
          "base_uri": "https://localhost:8080/",
          "height": 545
        }
      },
      "source": [
        "%matplotlib inline\n",
        "\n",
        "import matplotlib.pyplot as plt\n",
        "\n",
        "acc = history.history['acc']\n",
        "val_acc = history.history['val_acc']\n",
        "\n",
        "loss = history.history['loss']\n",
        "val_loss = history.history['val_loss']\n",
        "\n",
        "epochs = range(1, len(acc) + 1)\n",
        "\n",
        "# training and validation accuracy\n",
        "\n",
        "plt.plot(epochs, acc, 'bo', label='training acc')\n",
        "plt.plot(epochs, val_acc, 'b', label='validation acc')\n",
        "plt.title('training and validation accuracy')\n",
        "plt.legend()\n",
        "\n",
        "plt.figure()\n",
        "\n",
        "# training and validation loss\n",
        "\n",
        "plt.plot(epochs, loss, 'bo', label='training loss')\n",
        "plt.plot(epochs, val_loss, 'b', label='validation loss')\n",
        "plt.title('training and validation loss')\n",
        "plt.legend()\n",
        "\n",
        "plt.show()"
      ],
      "execution_count": 103,
      "outputs": [
        {
          "output_type": "display_data",
          "data": {
            "image/png": "[encoded data removed]",
            "text/plain": [
              "<Figure size 432x288 with 1 Axes>"
            ]
          },
          "metadata": {
            "tags": [],
            "needs_background": "light"
          }
        },
        {
          "output_type": "display_data",
          "data": {
            "image/png": "[encoded data removed]",
            "text/plain": [
              "<Figure size 432x288 with 1 Axes>"
            ]
          },
          "metadata": {
            "tags": [],
            "needs_background": "light"
          }
        }
      ]
    },
    {
      "cell_type": "markdown",
      "metadata": {
        "id": "obQi6N4ZShdi",
        "colab_type": "text"
      },
      "source": [
        "This looks like an ok model but there is variance in the validation set, which may be an indication of overfitting"
      ]
    },
    {
      "cell_type": "markdown",
      "metadata": {
        "id": "he3Nw6TOJwjx",
        "colab_type": "text"
      },
      "source": [
        "## Print out validation loss and accuracy"
      ]
    },
    {
      "cell_type": "code",
      "metadata": {
        "id": "SVQtrk7uJdhl",
        "colab_type": "code",
        "colab": {}
      },
      "source": [
        "val_loss, val_acc = model.evaluate_generator(validation_generator, steps=50)"
      ],
      "execution_count": 0,
      "outputs": []
    },
    {
      "cell_type": "code",
      "metadata": {
        "id": "HpdddLi1SUMe",
        "colab_type": "code",
        "outputId": "22dcd970-3f23-4610-a631-db46f231db97",
        "colab": {
          "base_uri": "https://localhost:8080/",
          "height": 51
        }
      },
      "source": [
        "print(\"Validation loss:\", val_loss)\n",
        "print(\"Validation accuracy:\", val_acc)"
      ],
      "execution_count": 105,
      "outputs": [
        {
          "output_type": "stream",
          "text": [
            "Validation loss: 0.09645938128232956\n",
            "Validation accuracy: 0.9750000238418579\n"
          ],
          "name": "stdout"
        }
      ]
    },
    {
      "cell_type": "markdown",
      "metadata": {
        "id": "7Ww756WToby8",
        "colab_type": "text"
      },
      "source": [
        "## Save the model"
      ]
    },
    {
      "cell_type": "code",
      "metadata": {
        "id": "0lTUpUdwobKW",
        "colab_type": "code",
        "colab": {}
      },
      "source": [
        "model_fname = 'cats_and_dogs_small_4.h5' \n",
        "model.save(model_fname)"
      ],
      "execution_count": 0,
      "outputs": []
    },
    {
      "cell_type": "code",
      "metadata": {
        "id": "YhEoI8ZTok-X",
        "colab_type": "code",
        "colab": {}
      },
      "source": [
        "from google.colab import files\n",
        "\n",
        "with open(model_fname, 'r') as f:\n",
        "  files.download(model_fname)"
      ],
      "execution_count": 0,
      "outputs": []
    }
  ]
}