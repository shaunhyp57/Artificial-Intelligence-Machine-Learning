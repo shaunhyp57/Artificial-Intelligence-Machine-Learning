{
  "nbformat": 4,
  "nbformat_minor": 0,
  "metadata": {
    "colab": {
      "name": "HW4-1.ipynb",
      "provenance": [],
      "collapsed_sections": [],
      "include_colab_link": true
    },
    "kernelspec": {
      "name": "python3",
      "display_name": "Python 3"
    }
  },
  "cells": [
    {
      "cell_type": "markdown",
      "metadata": {
        "id": "view-in-github",
        "colab_type": "text"
      },
      "source": [
        "<a href=\"https://colab.research.google.com/github/shaunhyp57/Artificial-Intelligence-Machine-Learning/blob/master/HW_4/HW4_1.ipynb\" target=\"_parent\"><img src=\"https://colab.research.google.com/assets/colab-badge.svg\" alt=\"Open In Colab\"/></a>"
      ]
    },
    {
      "cell_type": "markdown",
      "metadata": {
        "id": "U6bvLQEBfsKS",
        "colab_type": "text"
      },
      "source": [
        "## Problem 1\n",
        "\n",
        "Implementation of `conv2d` using only `numpy`. It takes as input `input_mat` and `kernel_mat` and outputs `output_mat`. All variables are square matrices. It computes the convolution of `input_mat` with the kernel `kernel_mat` using valid padding."
      ]
    },
    {
      "cell_type": "code",
      "metadata": {
        "id": "jRKb3j5_wbDA",
        "colab_type": "code",
        "colab": {}
      },
      "source": [
        "import numpy as np\n",
        "\n",
        "def conv2d(input_mat, kernel_mat):\n",
        "  k_row, k_col = kernel_mat.shape\n",
        "  if (k_row == k_col):\n",
        "    inp_row, inp_col = input_mat.shape\n",
        "    inp_row = inp_row - k_row + 1\n",
        "    inp_col = inp_col - k_row + 1\n",
        "\n",
        "\n",
        "    output_mat = np.zeros((inp_row, inp_col))\n",
        "\n",
        "    for r in range(inp_row):\n",
        "      for c in range(inp_col):\n",
        "        output_mat[r][c] = np.sum(input_mat[r:r + k_row, c:c + k_row] * kernel_mat)\n",
        "  \n",
        "  return output_mat"
      ],
      "execution_count": 0,
      "outputs": []
    },
    {
      "cell_type": "markdown",
      "metadata": {
        "id": "ID2GSjH31pXy",
        "colab_type": "text"
      },
      "source": [
        "### Testing `conv2d` function"
      ]
    },
    {
      "cell_type": "code",
      "metadata": {
        "id": "DrAbuChHfA6c",
        "colab_type": "code",
        "colab": {
          "base_uri": "https://localhost:8080/",
          "height": 374
        },
        "outputId": "c6a83dd9-05ba-4cda-8c02-d7fde792ba32"
      },
      "source": [
        "from scipy import signal\n",
        "import numpy as np\n",
        "\n",
        "input_mat = []\n",
        "kernel_mat = []\n",
        "expected_mat = []\n",
        "\n",
        "# test case 1\n",
        "input_mat.append(np.array([[1, 2, 1, 2],\n",
        "                      [2, 1, 2, 1],\n",
        "                      [1, 2, 1, 2],\n",
        "                      [2, 1, 2, 1]]))\n",
        "\n",
        "kernel_mat.append(np.array([[1, 0],\n",
        "                       [0, 1]]))\n",
        "\n",
        "expected_mat.append(np.array([[2, 4, 2],\n",
        "                                [4, 2, 4],\n",
        "                                [2, 4, 2]]))\n",
        "\n",
        "# test case 2\n",
        "input_mat.append(np.array([[1, 0, 0, 0],\n",
        "                      [0, 1, 0, 0],\n",
        "                      [0, 0, 1, 0],\n",
        "                      [0, 0, 0, 1]]))\n",
        "kernel_mat.append(np.array([[1, 0], [0, 1]]))\n",
        "expected_mat.append(np.array([[2, 0, 0], [0, 2, 0], [0, 0, 2]]))\n",
        "\n",
        "\n",
        "# test case 3\n",
        "input_mat.append(np.array([[1, 0, 0, 0],\n",
        "                      [0, 1, 0, 0],\n",
        "                      [0, 0, 1, 0],\n",
        "                      [0, 0, 0, 1]]))\n",
        "kernel_mat.append(np.array([[1, -1],\n",
        "                       [-1, 0]]))\n",
        "\n",
        "expected_mat.append(np.array([[ 1, -1,  0], [-1,  1, -1],[ 0, -1,  1]]))\n",
        "\n",
        "\n",
        "# test case 4\n",
        "input_mat.append(np.array([[1, 0, 0, 0],\n",
        "                      [0, 1, 0, 0],\n",
        "                      [0, 0, 1, 0],\n",
        "                      [0, 0, 0, 1]]))\n",
        "kernel_mat.append(np.array([[1, 0, 0, 0],\n",
        "                      [0, 1, 0, 0],\n",
        "                      [0, 0, 1, 0],\n",
        "                      [0, 0, 0, 1]]))\n",
        "\n",
        "expected_mat.append(np.array([[4]]))\n",
        "\n",
        "\n",
        "# test case 5 - should either through an error, or return empty matrix\n",
        "input_mat.append(np.array([[1, -1],\n",
        "                       [-1, 0]]))\n",
        "kernel_mat.append(np.array([[1, 0, 0, 0],\n",
        "                      [0, 1, 0, 0],\n",
        "                      [0, 0, 1, 0],\n",
        "                      [0, 0, 0, 1]]))\n",
        "\n",
        "expected_mat.append([])\n",
        "\n",
        "\n",
        "for i in range(len(input_mat)):\n",
        "  # uncomment line for student code testing\n",
        "  #output_mat = conv2d(input_mat[i], kernel_mat[i])\n",
        "\n",
        "  # uncomment lines below (and comment line above) for generating test cases.\n",
        "  if input_mat[i].shape[0] < kernel_mat[i].shape[0]:\n",
        "    output_mat = []\n",
        "  else:\n",
        "    output_mat = signal.convolve2d(input_mat[i], kernel_mat[i], mode='valid')\n",
        "\n",
        "  print(output_mat)\n",
        "  if np.array_equal(output_mat, expected_mat[i]):\n",
        "    print(\"Correct output!\\n\")\n",
        "  else:\n",
        "    print(\"Incorrect output!\\n\")"
      ],
      "execution_count": 13,
      "outputs": [
        {
          "output_type": "stream",
          "text": [
            "[[2 4 2]\n",
            " [4 2 4]\n",
            " [2 4 2]]\n",
            "Correct output!\n",
            "\n",
            "[[2 0 0]\n",
            " [0 2 0]\n",
            " [0 0 2]]\n",
            "Correct output!\n",
            "\n",
            "[[ 1 -1  0]\n",
            " [-1  1 -1]\n",
            " [ 0 -1  1]]\n",
            "Correct output!\n",
            "\n",
            "[[4]]\n",
            "Correct output!\n",
            "\n",
            "[]\n",
            "Correct output!\n",
            "\n"
          ],
          "name": "stdout"
        }
      ]
    },
    {
      "cell_type": "markdown",
      "metadata": {
        "id": "NP2WFqEBf3NT",
        "colab_type": "text"
      },
      "source": [
        "## Problem 2\n",
        "\n",
        "Implementation of `maxpooling2d` using only `numpy`. It takes as input `input_mat` and s and outputs `output_mat`. The variables `input_mat` and `output_mat` are square matrices and `s` is an integer. It computes the maxpooling operation on `input_mat` using window of shape `s` times `s`."
      ]
    },
    {
      "cell_type": "code",
      "metadata": {
        "id": "P-WyAVWGzXAU",
        "colab_type": "code",
        "colab": {}
      },
      "source": [
        "def maxpooling2d(input_mat, s):\n",
        "\n",
        "  inp_row, inp_col = input_mat.shape\n",
        "\n",
        "  input_size = input_mat.shape[0]\n",
        "\n",
        "  # Creating output matrix\n",
        "  output_size = input_size // s\n",
        "\n",
        "  output_mat = np.zeros((output_size, output_size))\n",
        "  \n",
        " \n",
        "  for r in range(output_size):\n",
        "    y_position = r * s\n",
        "    for c in range(output_size):\n",
        "      x_position = c * s\n",
        "\n",
        "      output_mat[r][c] = np.amax(input_mat[y_position:y_position+s, x_position:x_position+s])\n",
        "  \n",
        "  return output_mat"
      ],
      "execution_count": 0,
      "outputs": []
    },
    {
      "cell_type": "markdown",
      "metadata": {
        "id": "a5_8y-uT2Th2",
        "colab_type": "text"
      },
      "source": [
        "### Testing `maxpooling2d` function"
      ]
    },
    {
      "cell_type": "code",
      "metadata": {
        "id": "qnBafmIde0is",
        "colab_type": "code",
        "colab": {
          "base_uri": "https://localhost:8080/",
          "height": 136
        },
        "outputId": "cfafcae4-c0d4-4159-98f2-ce88d7fee517"
      },
      "source": [
        "import skimage.measure\n",
        "\n",
        "input_mat = []\n",
        "expected_mat = []\n",
        "s = []\n",
        "input_mat.append(np.array([[1, 2, 1, 2],\n",
        "                      [2, 4, 2, 1],\n",
        "                      [1, 2, 4, 2],\n",
        "                      [2, 1, 2, 1]]))\n",
        "s.append(2)\n",
        "\n",
        "expected_mat.append(np.array([[4, 2],\n",
        "                                [2, 4]]))\n",
        "\n",
        "input_mat.append(np.array([[1, 2, 1, 2, 4, 5],\n",
        "                      [2, 4, 2, 1, 0, 3],\n",
        "                      [1, 2, 4, 2, 4, 5],\n",
        "                      [2, 1, 2, 1, 2, 1],\n",
        "                      [1, 1, 2, 3, 1, 2]]))\n",
        "s.append(2)\n",
        "\n",
        "expected_mat.append([[4, 2, 5],\n",
        " [2, 4, 5],\n",
        " [1, 3, 2]])\n",
        "\n",
        "\n",
        "for i in range(len(input_mat)):\n",
        "  # uncomment top line and comment second line to test code\n",
        "  #output_mat = maxpooling2d(input_mat[i], s[i])\n",
        "  output_mat = skimage.measure.block_reduce(input_mat[i], (s[i],s[i]), np.max)\n",
        "\n",
        "  print(output_mat)\n",
        "\n",
        "  if np.array_equal(output_mat, expected_mat[i]):\n",
        "    print(\"Correct output!\")\n",
        "  else:\n",
        "    print(\"Incorrect output!\")"
      ],
      "execution_count": 15,
      "outputs": [
        {
          "output_type": "stream",
          "text": [
            "[[4 2]\n",
            " [2 4]]\n",
            "Correct output!\n",
            "[[4 2 5]\n",
            " [2 4 5]\n",
            " [1 3 2]]\n",
            "Correct output!\n"
          ],
          "name": "stdout"
        }
      ]
    }
  ]
}