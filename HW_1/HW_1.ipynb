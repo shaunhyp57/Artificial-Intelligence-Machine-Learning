{
  "nbformat": 4,
  "nbformat_minor": 0,
  "metadata": {
    "colab": {
      "name": "HW_1.ipynb",
      "provenance": [],
      "collapsed_sections": [],
      "authorship_tag": "ABX9TyOpTLyL9u0EY392Qp4DAPQ3",
      "include_colab_link": true
    },
    "kernelspec": {
      "name": "python3",
      "display_name": "Python 3"
    },
    "accelerator": "GPU"
  },
  "cells": [
    {
      "cell_type": "markdown",
      "metadata": {
        "id": "view-in-github",
        "colab_type": "text"
      },
      "source": [
        "<a href=\"https://colab.research.google.com/github/shaunhyp57/CAP4630---Artificial-Intelligence/blob/master/HW_1/HW_1.ipynb\" target=\"_parent\"><img src=\"https://colab.research.google.com/assets/colab-badge.svg\" alt=\"Open In Colab\"/></a>"
      ]
    },
    {
      "cell_type": "markdown",
      "metadata": {
        "id": "wQnsEPDfo3lI",
        "colab_type": "text"
      },
      "source": [
        "# Homework 1\n",
        "\n",
        "The program below takes in a list of numpy arrays and outputs their matrix product (using matrix multiplication). In matrix multiplication in python, a ValueError exception is thrown under the following two conditions:\n",
        "\n",
        "\n",
        "*   The last dimension of a is not the same size as the second-to-last dimension of b.\n",
        "*   If scalar value is passed\n",
        "\n",
        "In this assignment, we will assume that the second will not happen, since the program takes in a list of numpy arrays, and numpy arrays are not scalar. \n",
        "\n",
        "Here's an example of 2 incompatible arrays which throws the first condition:\n",
        "\n",
        "\\begin{equation}\n",
        "    A \\times B,\n",
        "\\end{equation}\n",
        "\n",
        "\n",
        "where $A = \\begin{bmatrix}\n",
        "    6 & 2 & 1 \\\\\n",
        "    1 & 0 & 9 \\\\\n",
        "    4 & 12 & 0\n",
        "  \\end{bmatrix}$ and $B = \\begin{bmatrix}\n",
        "    1 & 3 & 0 & 8 \\\\\n",
        "    0 & 9 & 10 & 7\n",
        "  \\end{bmatrix}$\n",
        "\n",
        "\n",
        "$A$ is a $3 \\times 3$ matrix and $B$ is a $2 \\times 4$ matrix. Since $3 \\neq 2$, the two matricies are incompatible in matrix multiplication.  \n"
      ]
    },
    {
      "cell_type": "code",
      "metadata": {
        "id": "SDodpPltEojp",
        "colab_type": "code",
        "colab": {}
      },
      "source": [
        "import numpy as np\n",
        "\n",
        "def multiply_matrices(list_matrx):\n",
        "  \n",
        "  if not list_matrx:\n",
        "    print(\"List is empty\")\n",
        "    return\n",
        "  if len(list_matrx) == 1:\n",
        "    print(\"List contains one numpy array\")\n",
        "    return\n",
        "\n",
        "  len_list_matrx = len(list_matrx)\n",
        "\n",
        "  for B in range(len_list_matrx):\n",
        "    if B == 0:\n",
        "      A = list_matrx[B]\n",
        "      continue\n",
        "    else:\n",
        "      try:      \n",
        "        A = np.matmul(A, list_matrx[B])\n",
        "      except:\n",
        "        print(\"Matrices not compatible\\n\")\n",
        "        print(str(list_matrx[B]) + \" shape: \" + str(list_matrx[B].shape)) \n",
        "        print(str(A) + \" shape: \" + str(A.shape))\n",
        "        return\n",
        "  \n",
        "  print(\"The product is: \\n\" + str(A))"
      ],
      "execution_count": 0,
      "outputs": []
    },
    {
      "cell_type": "code",
      "metadata": {
        "id": "TtlGEt2efart",
        "colab_type": "code",
        "colab": {}
      },
      "source": [
        ""
      ],
      "execution_count": 0,
      "outputs": []
    }
  ]
}