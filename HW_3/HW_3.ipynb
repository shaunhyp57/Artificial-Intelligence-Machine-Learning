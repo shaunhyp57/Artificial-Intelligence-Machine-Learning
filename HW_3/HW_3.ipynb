{
  "nbformat": 4,
  "nbformat_minor": 0,
  "metadata": {
    "colab": {
      "name": "HW_3.ipynb",
      "provenance": [],
      "collapsed_sections": [],
      "authorship_tag": "ABX9TyOMpqYnDBymRMO2jlvf6Bd0",
      "include_colab_link": true
    },
    "kernelspec": {
      "name": "python3",
      "display_name": "Python 3"
    }
  },
  "cells": [
    {
      "cell_type": "markdown",
      "metadata": {
        "id": "view-in-github",
        "colab_type": "text"
      },
      "source": [
        "<a href=\"https://colab.research.google.com/github/shaunhyp57/Artificial-Intelligence-Machine-Learning/blob/master/HW_3/HW_3.ipynb\" target=\"_parent\"><img src=\"https://colab.research.google.com/assets/colab-badge.svg\" alt=\"Open In Colab\"/></a>"
      ]
    },
    {
      "cell_type": "markdown",
      "metadata": {
        "id": "G9rfEIxnnyI9",
        "colab_type": "text"
      },
      "source": [
        "# Problem 1"
      ]
    },
    {
      "cell_type": "code",
      "metadata": {
        "id": "DVv7MJ4EndRu",
        "colab_type": "code",
        "outputId": "f6b839f6-ef88-44af-97e5-f7f2be0c96b7",
        "colab": {
          "base_uri": "https://localhost:8080/",
          "height": 34
        }
      },
      "source": [
        "%tensorflow_version 2.x\n",
        "\n",
        "import numpy as np\n",
        "import pandas as pd\n",
        "import matplotlib as mpl\n",
        "import matplotlib.pyplot as plt\n",
        "from matplotlib.colors import ListedColormap\n",
        "import tensorflow as tf\n",
        "\n",
        "%matplotlib inline"
      ],
      "execution_count": 0,
      "outputs": [
        {
          "output_type": "stream",
          "text": [
            "TensorFlow 2.x selected.\n"
          ],
          "name": "stdout"
        }
      ]
    },
    {
      "cell_type": "code",
      "metadata": {
        "id": "qH9nxxpWrF-T",
        "colab_type": "code",
        "colab": {}
      },
      "source": [
        "#def get_random_data(w, b, mu, sigma, m):\n",
        "m = 100\n",
        "w = 0.4\n",
        "b = 0.3\n",
        "mu = 0.07\n",
        "sigma = 0.03\n",
        "\n",
        "x_1 = np.random.rand(m)\n",
        "\n",
        "c = np.random.choice(2, size=(m))\n",
        "n = np.random.normal(mu, sigma, size = m)\n",
        "\n",
        "x_2 = w * x_1 + b + ((-1)**c) * n \n",
        "\n",
        "df = pd.DataFrame({\"x1\":x_1, \"x2\":x_2, \"c\":c})\n",
        "\n",
        "data = pd.DataFrame()\n",
        "data['x1'] = x_1\n",
        "data['x2'] = x_2\n",
        "\n",
        "label = pd.DataFrame()\n",
        "label['c'] = c\n",
        "\n",
        "#print(df['c'])\n",
        "\n",
        "\n",
        "  #return df[['x1','x2']], df['c']"
      ],
      "execution_count": 0,
      "outputs": []
    },
    {
      "cell_type": "code",
      "metadata": {
        "id": "tGiMcUv1T-pU",
        "colab_type": "code",
        "outputId": "a206ecea-617e-40c8-c8aa-b6070a134d59",
        "colab": {
          "base_uri": "https://localhost:8080/",
          "height": 278
        }
      },
      "source": [
        "#def display_random_data(data,label):\n",
        "plt.style.use('seaborn-whitegrid')\n",
        "fig = plt.figure()\n",
        "ax = plt.axes()\n",
        "\n",
        "y = w * x_1 + b\n",
        "\n",
        "colours = ListedColormap(['r','b'])\n",
        "ax.scatter(x_1, x_2, c= c, cmap=colours)\n",
        "ax.plot(x_1, y, linestyle='-')\n",
        "ax.set_xlabel('$x_1$')\n",
        "ax.set_ylabel('$x_2$');"
      ],
      "execution_count": 0,
      "outputs": [
        {
          "output_type": "display_data",
          "data": {
            "image/png": "[encoded data removed]",
            "text/plain": [
              "<Figure size 432x288 with 1 Axes>"
            ]
          },
          "metadata": {
            "tags": []
          }
        }
      ]
    },
    {
      "cell_type": "code",
      "metadata": {
        "id": "GWzU4iVK0ztn",
        "colab_type": "code",
        "colab": {}
      },
      "source": [
        "from sklearn.model_selection import train_test_split\n",
        "\n",
        "X_train, X_test, y_train, y_test = train_test_split(data, c, test_size=0.2, random_state=42)\n"
      ],
      "execution_count": 0,
      "outputs": []
    }
  ]
}